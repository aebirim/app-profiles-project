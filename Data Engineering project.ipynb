{
 "cells": [
  {
   "cell_type": "markdown",
   "metadata": {},
   "source": [
    "# Profitable App Profiles for the App Store and Google Play Markets\n",
    "\n",
    "The goal of this project is to analyze data in the app stores to help our developers understand what type of apps are likely to attract more users.\n",
    "\n",
    "I work for a company that builds Android and iOS mobile apps and these apps are available on Google Play and the App Store. The company primarily builds apps that are free to download and install however it's main source of revenue consists of in-app ads. This means that the revenue is driven by the number of users who use the apps - the more users that see and engage with the ads, the better.\n",
    "\n",
    "* The App Store dataset can be downloaded directly from this [link](https://dq-content.s3.amazonaws.com/350/AppleStore.csv)\n",
    "\n",
    "* The Google Play dataset can be downloaded directly from this [link](https://dq-content.s3.amazonaws.com/350/googleplaystore.csv)\n",
    "\n"
   ]
  },
  {
   "cell_type": "code",
   "execution_count": 173,
   "metadata": {
    "scrolled": true
   },
   "outputs": [
    {
     "name": "stdout",
     "output_type": "stream",
     "text": [
      "Collecting autopep8\n",
      "  Using cached https://files.pythonhosted.org/packages/58/e5/a06510cfa9caaaffebf74084f8886a93a96273dbf22a1c920ca1af00997a/autopep8-1.5.5-py2.py3-none-any.whl\n",
      "Collecting pycodestyle>=2.6.0 (from autopep8)\n",
      "  Using cached https://files.pythonhosted.org/packages/10/5b/88879fb861ab79aef45c7e199cae3ef7af487b5603dcb363517a50602dd7/pycodestyle-2.6.0-py2.py3-none-any.whl\n",
      "Collecting toml (from autopep8)\n",
      "  Using cached https://files.pythonhosted.org/packages/44/6f/7120676b6d73228c96e17f1f794d8ab046fc910d781c8d151120c3f1569e/toml-0.10.2-py2.py3-none-any.whl\n",
      "Installing collected packages: pycodestyle, toml, autopep8\n",
      "Successfully installed autopep8-1.5.5 pycodestyle-2.6.0 toml-0.10.2\n"
     ]
    }
   ],
   "source": [
    "!pip3 install autopep8"
   ]
  },
  {
   "cell_type": "code",
   "execution_count": 174,
   "metadata": {},
   "outputs": [],
   "source": [
    "# Download the App store and Google Play datasets\n",
    "\n",
    "import requests\n",
    "import csv\n",
    "\n",
    "urls = [\n",
    "    \"https://dq-content.s3.amazonaws.com/350/AppleStore.csv\", \n",
    "    \"https://dq-content.s3.amazonaws.com/350/googleplaystore.csv\"\n",
    "       ]\n",
    "\n",
    "for url in urls:\n",
    "    x = url.split(\"/\")\n",
    "    params = 'datasets'\n",
    "    params += '/'\n",
    "    params += x[-1]\n",
    "    \n",
    "    download = requests.get(url)\n",
    "    output = download.text\n",
    "    with open(params, 'w') as temp_file:\n",
    "        temp_file.writelines(output)\n",
    "    \n",
    "    "
   ]
  },
  {
   "cell_type": "code",
   "execution_count": 175,
   "metadata": {},
   "outputs": [],
   "source": [
    "# open the App store and Google Play datasets\n",
    "from csv import reader\n",
    "import pprint\n",
    "\n",
    "apple_file = 'datasets/AppleStore.csv'\n",
    "google_file = 'datasets/googleplaystore.csv'\n",
    "\n",
    "def open_file(file):\n",
    "    try:\n",
    "        opened_file = open(file)\n",
    "    except OSError as e:\n",
    "        print(\"Failure to open file\", e)\n",
    "        \n",
    "    reader_file = reader(opened_file)\n",
    "    data = list(reader_file)\n",
    "    return data\n",
    "\n",
    "apple_data = open_file(apple_file)  \n",
    "google_data = open_file(google_file)\n"
   ]
  },
  {
   "cell_type": "markdown",
   "metadata": {},
   "source": [
    "The explore_data function allows you to explore the dataset in a more readable way. The function also lets you count the number of rows and columns for the dataset"
   ]
  },
  {
   "cell_type": "code",
   "execution_count": 176,
   "metadata": {
    "scrolled": true
   },
   "outputs": [
    {
     "name": "stdout",
     "output_type": "stream",
     "text": [
      "['id', 'track_name', 'size_bytes', 'currency', 'price', 'rating_count_tot', 'rating_count_ver', 'user_rating', 'user_rating_ver', 'ver', 'cont_rating', 'prime_genre', 'sup_devices.num', 'ipadSc_urls.num', 'lang.num', 'vpp_lic']\n",
      "\n",
      "\n",
      "['284882215', 'Facebook', '389879808', 'USD', '0.0', '2974676', '212', '3.5', '3.5', '95.0', '4+', 'Social Networking', '37', '1', '29', '1']\n",
      "\n",
      "\n",
      "['389801252', 'Instagram', '113954816', 'USD', '0.0', '2161558', '1289', '4.5', '4.0', '10.23', '12+', 'Photo & Video', '37', '0', '29', '1']\n",
      "\n",
      "\n",
      "['529479190', 'Clash of Clans', '116476928', 'USD', '0.0', '2130805', '579', '4.5', '4.5', '9.24.12', '9+', 'Games', '38', '5', '18', '1']\n",
      "\n",
      "\n",
      "['420009108', 'Temple Run', '65921024', 'USD', '0.0', '1724546', '3842', '4.5', '4.0', '1.6.2', '9+', 'Games', '40', '5', '1', '1']\n",
      "\n",
      "\n"
     ]
    }
   ],
   "source": [
    "# explore the datasets\n",
    "def explore_data(dataset, start, end, rows_and_columns=False):\n",
    "    dataset_slice = dataset[start:end]\n",
    "    for row in dataset_slice:\n",
    "        print(row)\n",
    "        print('\\n')\n",
    "        \n",
    "    if rows_and_columns:\n",
    "        print(\"Number of rows:\", len(dataset))\n",
    "        print(\"Number of columns:\", len(dataset[0]))\n",
    "    \n",
    "explore_data(apple_data, 0, 5)"
   ]
  },
  {
   "cell_type": "code",
   "execution_count": 177,
   "metadata": {},
   "outputs": [
    {
     "name": "stdout",
     "output_type": "stream",
     "text": [
      "['id', 'track_name', 'size_bytes', 'currency', 'price', 'rating_count_tot', 'rating_count_ver', 'user_rating', 'user_rating_ver', 'ver', 'cont_rating', 'prime_genre', 'sup_devices.num', 'ipadSc_urls.num', 'lang.num', 'vpp_lic']\n",
      "\n",
      "\n",
      "['284882215', 'Facebook', '389879808', 'USD', '0.0', '2974676', '212', '3.5', '3.5', '95.0', '4+', 'Social Networking', '37', '1', '29', '1']\n",
      "\n",
      "\n",
      "['389801252', 'Instagram', '113954816', 'USD', '0.0', '2161558', '1289', '4.5', '4.0', '10.23', '12+', 'Photo & Video', '37', '0', '29', '1']\n",
      "\n",
      "\n",
      "['529479190', 'Clash of Clans', '116476928', 'USD', '0.0', '2130805', '579', '4.5', '4.5', '9.24.12', '9+', 'Games', '38', '5', '18', '1']\n",
      "\n",
      "\n",
      "['420009108', 'Temple Run', '65921024', 'USD', '0.0', '1724546', '3842', '4.5', '4.0', '1.6.2', '9+', 'Games', '40', '5', '1', '1']\n",
      "\n",
      "\n",
      "Number of rows: 7198\n",
      "Number of columns: 16\n"
     ]
    }
   ],
   "source": [
    "def explore_data(dataset, start, end, rows_and_columns=False):\n",
    "    dataset_slice = dataset[start:end]\n",
    "    for row in dataset_slice:\n",
    "        print(row)\n",
    "        print('\\n')\n",
    "        \n",
    "    if rows_and_columns:\n",
    "        print(\"Number of rows:\", len(dataset))\n",
    "        print(\"Number of columns:\", len(dataset[0]))\n",
    "    \n",
    "explore_data(apple_data, 0, 5, True)"
   ]
  },
  {
   "cell_type": "markdown",
   "metadata": {},
   "source": [
    "Documentation describing the columns for the iOs App store dataset and Google Play dataset can be found [here](https://kaggle.com/ramamet4/app-store-apple-data-set-10k-apps/home) and [here](https://kaggle.com/lava18/google-play-store-apps) respectively"
   ]
  },
  {
   "cell_type": "code",
   "execution_count": 178,
   "metadata": {
    "scrolled": true
   },
   "outputs": [
    {
     "name": "stdout",
     "output_type": "stream",
     "text": [
      "['App', 'Category', 'Rating', 'Reviews', 'Size', 'Installs', 'Type', 'Price', 'Content Rating', 'Genres', 'Last Updated', 'Current Ver', 'Android Ver']\n",
      "\n",
      "\n",
      "['Photo Editor & Candy Camera & Grid & ScrapBook', 'ART_AND_DESIGN', '4.1', '159', '19M', '10,000+', 'Free', '0', 'Everyone', 'Art & Design', 'January 7, 2018', '1.0.0', '4.0.3 and up']\n",
      "\n",
      "\n",
      "['Coloring book moana', 'ART_AND_DESIGN', '3.9', '967', '14M', '500,000+', 'Free', '0', 'Everyone', 'Art & Design;Pretend Play', 'January 15, 2018', '2.0.0', '4.0.3 and up']\n",
      "\n",
      "\n",
      "['U Launcher Lite â\\x80\\x93 FREE Live Cool Themes, Hide Apps', 'ART_AND_DESIGN', '4.7', '87510', '8.7M', '5,000,000+', 'Free', '0', 'Everyone', 'Art & Design', 'August 1, 2018', '1.2.4', '4.0.3 and up']\n",
      "\n",
      "\n",
      "['Sketch - Draw & Paint', 'ART_AND_DESIGN', '4.5', '215644', '25M', '50,000,000+', 'Free', '0', 'Teen', 'Art & Design', 'June 8, 2018', 'Varies with device', '4.2 and up']\n",
      "\n",
      "\n"
     ]
    }
   ],
   "source": [
    "explore_data(google_data, 0, 5)"
   ]
  },
  {
   "cell_type": "code",
   "execution_count": 179,
   "metadata": {},
   "outputs": [
    {
     "name": "stdout",
     "output_type": "stream",
     "text": [
      "['App', 'Category', 'Rating', 'Reviews', 'Size', 'Installs', 'Type', 'Price', 'Content Rating', 'Genres', 'Last Updated', 'Current Ver', 'Android Ver']\n",
      "\n",
      "\n",
      "['Photo Editor & Candy Camera & Grid & ScrapBook', 'ART_AND_DESIGN', '4.1', '159', '19M', '10,000+', 'Free', '0', 'Everyone', 'Art & Design', 'January 7, 2018', '1.0.0', '4.0.3 and up']\n",
      "\n",
      "\n",
      "['Coloring book moana', 'ART_AND_DESIGN', '3.9', '967', '14M', '500,000+', 'Free', '0', 'Everyone', 'Art & Design;Pretend Play', 'January 15, 2018', '2.0.0', '4.0.3 and up']\n",
      "\n",
      "\n",
      "['U Launcher Lite â\\x80\\x93 FREE Live Cool Themes, Hide Apps', 'ART_AND_DESIGN', '4.7', '87510', '8.7M', '5,000,000+', 'Free', '0', 'Everyone', 'Art & Design', 'August 1, 2018', '1.2.4', '4.0.3 and up']\n",
      "\n",
      "\n",
      "['Sketch - Draw & Paint', 'ART_AND_DESIGN', '4.5', '215644', '25M', '50,000,000+', 'Free', '0', 'Teen', 'Art & Design', 'June 8, 2018', 'Varies with device', '4.2 and up']\n",
      "\n",
      "\n",
      "Number of rows: 10842\n",
      "Number of columns: 13\n"
     ]
    }
   ],
   "source": [
    "explore_data(google_data, 0, 5, True)"
   ]
  },
  {
   "cell_type": "code",
   "execution_count": 180,
   "metadata": {},
   "outputs": [],
   "source": [
    "# show the headers for each dataset\n",
    "\n",
    "header_apple = apple_data[0]\n",
    "header_google = google_data[0]"
   ]
  },
  {
   "cell_type": "markdown",
   "metadata": {},
   "source": [
    "# Data cleaning"
   ]
  },
  {
   "cell_type": "markdown",
   "metadata": {},
   "source": [
    "Check the datasets and ensure each row has the correct number of columns"
   ]
  },
  {
   "cell_type": "code",
   "execution_count": 181,
   "metadata": {},
   "outputs": [],
   "source": [
    "def check_dataset(dataset):\n",
    "    for count, row in enumerate(dataset):\n",
    "        header_length = len(dataset[0])\n",
    "        if len(row) != header_length:\n",
    "            print(\"row:\",count,\"has\", len(row), \"columns instead of\", header_length)\n",
    "            \n",
    "check_dataset(apple_data)"
   ]
  },
  {
   "cell_type": "code",
   "execution_count": 182,
   "metadata": {},
   "outputs": [
    {
     "name": "stdout",
     "output_type": "stream",
     "text": [
      "row: 10473 has 12 columns instead of 13\n"
     ]
    }
   ],
   "source": [
    "check_dataset(google_data)"
   ]
  },
  {
   "cell_type": "markdown",
   "metadata": {},
   "source": [
    "This shows that row 10473, of the google dataset, has an incorrect number of columns. "
   ]
  },
  {
   "cell_type": "code",
   "execution_count": 183,
   "metadata": {},
   "outputs": [],
   "source": [
    "# delete the row with the missing column(s)\n",
    "\n",
    "del google_data[10473]"
   ]
  },
  {
   "cell_type": "code",
   "execution_count": 184,
   "metadata": {},
   "outputs": [
    {
     "data": {
      "text/plain": [
       "10841"
      ]
     },
     "execution_count": 184,
     "metadata": {},
     "output_type": "execute_result"
    }
   ],
   "source": [
    "# number of rows in dataset\n",
    "\n",
    "len(google_data)"
   ]
  },
  {
   "cell_type": "markdown",
   "metadata": {},
   "source": [
    "Check the Google Play dataset for duplicate app entries\n"
   ]
  },
  {
   "cell_type": "code",
   "execution_count": 185,
   "metadata": {
    "scrolled": true
   },
   "outputs": [
    {
     "name": "stdout",
     "output_type": "stream",
     "text": [
      "number of duplicates of google dataset: 1181\n",
      "\n",
      "\n",
      "examples of duplicate apps in google dataset: [['Box', 'BUSINESS', '4.2', '159872', 'Varies with device', '10,000,000+', 'Free', '0', 'Everyone', 'Business', 'July 31, 2018', 'Varies with device', 'Varies with device'], ['Google My Business', 'BUSINESS', '4.4', '70991', 'Varies with device', '5,000,000+', 'Free', '0', 'Everyone', 'Business', 'July 24, 2018', '2.19.0.204537701', '4.4 and up'], ['ZOOM Cloud Meetings', 'BUSINESS', '4.4', '31614', '37M', '10,000,000+', 'Free', '0', 'Everyone', 'Business', 'July 20, 2018', '4.1.28165.0716', '4.0 and up'], ['join.me - Simple Meetings', 'BUSINESS', '4.0', '6989', 'Varies with device', '1,000,000+', 'Free', '0', 'Everyone', 'Business', 'July 16, 2018', '4.3.0.508', '4.4 and up'], ['Box', 'BUSINESS', '4.2', '159872', 'Varies with device', '10,000,000+', 'Free', '0', 'Everyone', 'Business', 'July 31, 2018', 'Varies with device', 'Varies with device'], ['Zenefits', 'BUSINESS', '4.2', '296', '14M', '50,000+', 'Free', '0', 'Everyone', 'Business', 'June 15, 2018', '3.2.1', '4.1 and up'], ['Google Ads', 'BUSINESS', '4.3', '29313', '20M', '5,000,000+', 'Free', '0', 'Everyone', 'Business', 'July 30, 2018', '1.12.0', '4.0.3 and up'], ['Google My Business', 'BUSINESS', '4.4', '70991', 'Varies with device', '5,000,000+', 'Free', '0', 'Everyone', 'Business', 'July 24, 2018', '2.19.0.204537701', '4.4 and up'], ['Slack', 'BUSINESS', '4.4', '51507', 'Varies with device', '5,000,000+', 'Free', '0', 'Everyone', 'Business', 'August 2, 2018', 'Varies with device', 'Varies with device']]\n"
     ]
    }
   ],
   "source": [
    "duplicate_apps = []\n",
    "unique_apps = []\n",
    "def check_duplicates(dataset):\n",
    "    for count, row in enumerate(dataset[1:]):\n",
    "        app_name = row[0]\n",
    "        if app_name in unique_apps:\n",
    "            duplicate_apps.append(row)\n",
    "        else:\n",
    "            unique_apps.append(app_name)\n",
    "    return duplicate_apps, unique_apps\n",
    "\n",
    "dup_app, uniqs = check_duplicates(google_data)  \n",
    "print(\"number of duplicates of google dataset:\", len(dup_app))\n",
    "print(\"\\n\")\n",
    "print(\"examples of duplicate apps in google dataset:\", dup_app[1:10])\n",
    "number_of_duplicates = len(dup_app)\n",
    "    "
   ]
  },
  {
   "cell_type": "markdown",
   "metadata": {
    "variables": {
     "number_of_duplicates": "1181"
    }
   },
   "source": [
    "The number of duplicates in the Google dataset are {{number_of_duplicates}}\n",
    "\n",
    "The above samples, from the Google dataset, clearly show duplicate entries"
   ]
  },
  {
   "cell_type": "code",
   "execution_count": 186,
   "metadata": {},
   "outputs": [],
   "source": [
    "# extract the names of the duplicated apps\n",
    "app_names = []\n",
    "\n",
    "for row in dup_app:\n",
    "    name = row[0]\n",
    "    app_names.append(name)\n",
    "\n",
    "new_apps = sorted(app_names)\n",
    "\n",
    "    "
   ]
  },
  {
   "cell_type": "code",
   "execution_count": 187,
   "metadata": {},
   "outputs": [],
   "source": [
    "# count frequency of names occurring\n",
    "\n",
    "apps = {}\n",
    "for name in new_apps:\n",
    "    apps[name] = new_apps.count(name)\n",
    "   "
   ]
  },
  {
   "cell_type": "code",
   "execution_count": 188,
   "metadata": {},
   "outputs": [
    {
     "data": {
      "text/plain": [
       "8"
      ]
     },
     "execution_count": 188,
     "metadata": {},
     "output_type": "execute_result"
    }
   ],
   "source": [
    "#what is the highest number of duplicates ?\n",
    "max(apps.values())"
   ]
  },
  {
   "cell_type": "code",
   "execution_count": 189,
   "metadata": {},
   "outputs": [
    {
     "name": "stdout",
     "output_type": "stream",
     "text": [
      "k: ROBLOX\n"
     ]
    }
   ],
   "source": [
    "# which app do these duplicates belong to\n",
    "for k, v in apps.items():\n",
    "    if v == 8:\n",
    "        print(\"k:\", k)"
   ]
  },
  {
   "cell_type": "code",
   "execution_count": 190,
   "metadata": {},
   "outputs": [
    {
     "data": {
      "text/plain": [
       "8"
      ]
     },
     "execution_count": 190,
     "metadata": {},
     "output_type": "execute_result"
    }
   ],
   "source": [
    "apps['ROBLOX']"
   ]
  },
  {
   "cell_type": "code",
   "execution_count": 191,
   "metadata": {},
   "outputs": [
    {
     "name": "stdout",
     "output_type": "stream",
     "text": [
      "['ROBLOX', 'GAME', '4.5', '4447388', '67M', '100,000,000+', 'Free', '0', 'Everyone 10+', 'Adventure;Action & Adventure', 'July 31, 2018', '2.347.225742', '4.1 and up']\n",
      "['ROBLOX', 'GAME', '4.5', '4447346', '67M', '100,000,000+', 'Free', '0', 'Everyone 10+', 'Adventure;Action & Adventure', 'July 31, 2018', '2.347.225742', '4.1 and up']\n",
      "['ROBLOX', 'GAME', '4.5', '4448791', '67M', '100,000,000+', 'Free', '0', 'Everyone 10+', 'Adventure;Action & Adventure', 'July 31, 2018', '2.347.225742', '4.1 and up']\n",
      "['ROBLOX', 'GAME', '4.5', '4449882', '67M', '100,000,000+', 'Free', '0', 'Everyone 10+', 'Adventure;Action & Adventure', 'July 31, 2018', '2.347.225742', '4.1 and up']\n",
      "['ROBLOX', 'GAME', '4.5', '4449910', '67M', '100,000,000+', 'Free', '0', 'Everyone 10+', 'Adventure;Action & Adventure', 'July 31, 2018', '2.347.225742', '4.1 and up']\n",
      "['ROBLOX', 'FAMILY', '4.5', '4449910', '67M', '100,000,000+', 'Free', '0', 'Everyone 10+', 'Adventure;Action & Adventure', 'July 31, 2018', '2.347.225742', '4.1 and up']\n",
      "['ROBLOX', 'FAMILY', '4.5', '4450855', '67M', '100,000,000+', 'Free', '0', 'Everyone 10+', 'Adventure;Action & Adventure', 'July 31, 2018', '2.347.225742', '4.1 and up']\n",
      "['ROBLOX', 'FAMILY', '4.5', '4450890', '67M', '100,000,000+', 'Free', '0', 'Everyone 10+', 'Adventure;Action & Adventure', 'July 31, 2018', '2.347.225742', '4.1 and up']\n",
      "['ROBLOX', 'FAMILY', '4.5', '4443407', '67M', '100,000,000+', 'Free', '0', 'Everyone 10+', 'Adventure;Action & Adventure', 'July 31, 2018', '2.347.225742', '4.1 and up']\n"
     ]
    }
   ],
   "source": [
    "for row in google_data[1:]:\n",
    "    name = row[0]\n",
    "    if name == 'ROBLOX':\n",
    "        print(row)"
   ]
  },
  {
   "cell_type": "code",
   "execution_count": 192,
   "metadata": {
    "code_folding": []
   },
   "outputs": [
    {
     "name": "stdout",
     "output_type": "stream",
     "text": [
      "['Box', 'BUSINESS', '4.2', '159872', 'Varies with device', '10,000,000+', 'Free', '0', 'Everyone', 'Business', 'July 31, 2018', 'Varies with device', 'Varies with device']\n",
      "['Box', 'BUSINESS', '4.2', '159872', 'Varies with device', '10,000,000+', 'Free', '0', 'Everyone', 'Business', 'July 31, 2018', 'Varies with device', 'Varies with device']\n",
      "['Box', 'BUSINESS', '4.2', '159872', 'Varies with device', '10,000,000+', 'Free', '0', 'Everyone', 'Business', 'July 31, 2018', 'Varies with device', 'Varies with device']\n"
     ]
    }
   ],
   "source": [
    "for row in google_data[1:]:\n",
    "    name = row[0]\n",
    "    if name == 'Box':\n",
    "        print(row)"
   ]
  },
  {
   "cell_type": "markdown",
   "metadata": {},
   "source": [
    "We have to find a way to remove duplicate data and keep the most current. One of the ways to do this is to keep the duplicate entry with the highest number of reviews and discard the others"
   ]
  },
  {
   "cell_type": "code",
   "execution_count": 193,
   "metadata": {},
   "outputs": [],
   "source": [
    "# show length of dataset once duplicates are removed (exclude the header)\n",
    "\n",
    "non_dup_google = len(google_data[1:]) - number_of_duplicates"
   ]
  },
  {
   "cell_type": "markdown",
   "metadata": {
    "variables": {
     "non_dup_google": "9659"
    }
   },
   "source": [
    "Length of google dataset once duplicates have been removed: {{non_dup_google}}"
   ]
  },
  {
   "cell_type": "markdown",
   "metadata": {},
   "source": [
    "Create a dictionary where each key is a unique app name with the corresponding highest number of reviews of the app"
   ]
  },
  {
   "cell_type": "code",
   "execution_count": 194,
   "metadata": {},
   "outputs": [],
   "source": [
    "# this code will extract the maximum number of reviews per unique app name in the duplicates free dataset\n",
    "\n",
    "reviews_max = {}\n",
    "for row in google_data[1:]:\n",
    "    name = row[0]\n",
    "    n_reviews = float(row[3])\n",
    "    if name in reviews_max and reviews_max[name] < n_reviews:\n",
    "        reviews_max[name] = n_reviews\n",
    "    else:\n",
    "        name not in reviews_max\n",
    "        reviews_max[name] = n_reviews\n",
    "        \n",
    "        \n",
    "    \n",
    "        "
   ]
  },
  {
   "cell_type": "code",
   "execution_count": 195,
   "metadata": {},
   "outputs": [
    {
     "data": {
      "text/plain": [
       "True"
      ]
     },
     "execution_count": 195,
     "metadata": {},
     "output_type": "execute_result"
    }
   ],
   "source": [
    "# compare the lengths of the reviews_max dictionary and the duplicates free (unique) dataset. Are they the same ?\n",
    "\n",
    "len(reviews_max) == non_dup_google"
   ]
  },
  {
   "cell_type": "code",
   "execution_count": 196,
   "metadata": {},
   "outputs": [],
   "source": [
    "# the already added list will be a check to confirm that all the unique app names \n",
    "# in the dataset have been added and cleaned\n",
    "\n",
    "android_clean, already_added = [], []\n",
    "for row in google_data[1:]:\n",
    "    name = row[0]\n",
    "    n_reviews = float(row[3])\n",
    "    if reviews_max[name] == n_reviews and name not in already_added:\n",
    "        android_clean.append(row)\n",
    "        already_added.append(name) "
   ]
  },
  {
   "cell_type": "code",
   "execution_count": 197,
   "metadata": {},
   "outputs": [
    {
     "data": {
      "text/plain": [
       "9659"
      ]
     },
     "execution_count": 197,
     "metadata": {},
     "output_type": "execute_result"
    }
   ],
   "source": [
    "len(android_clean)"
   ]
  },
  {
   "cell_type": "code",
   "execution_count": 198,
   "metadata": {},
   "outputs": [
    {
     "data": {
      "text/plain": [
       "9659"
      ]
     },
     "execution_count": 198,
     "metadata": {},
     "output_type": "execute_result"
    }
   ],
   "source": [
    "len(already_added)"
   ]
  },
  {
   "cell_type": "markdown",
   "metadata": {},
   "source": [
    "At the company, English is used to develop the apps because we cater to an English speaking audience. We therefore have to make sure our dataset contains only English apps.\n",
    "\n",
    "We can check each character in an app name to see if it is an English character. Using ord(), a built-in Python function, we will check each character to see whether it's ASCII (American Standard Code for Information Interchange system) number is 127 or less. This shows us that the character is English. If the ASCII numbr returned is greater than 127, then that character is non-English.\n",
    "\n",
    "We will devise a function that will check each string and if any character within that string is a non-English character, then return a boolean value of False that the string is non-English"
   ]
  },
  {
   "cell_type": "code",
   "execution_count": 199,
   "metadata": {},
   "outputs": [
    {
     "data": {
      "text/plain": [
       "6"
      ]
     },
     "execution_count": 199,
     "metadata": {},
     "output_type": "execute_result"
    }
   ],
   "source": [
    "len(android_clean[7940][0])"
   ]
  },
  {
   "cell_type": "code",
   "execution_count": 200,
   "metadata": {},
   "outputs": [
    {
     "name": "stdout",
     "output_type": "stream",
     "text": [
      "True\n",
      "True\n",
      "True\n",
      "True\n",
      "True\n",
      "True\n",
      "True\n",
      "True\n",
      "True\n",
      "True\n",
      "False\n",
      "True\n",
      "True\n",
      "True\n",
      "True\n",
      "True\n",
      "True\n",
      "True\n",
      "True\n",
      "True\n",
      "True\n",
      "True\n",
      "True\n",
      "True\n",
      "True\n",
      "True\n",
      "True\n",
      "True\n",
      "True\n"
     ]
    }
   ],
   "source": [
    "for char in 'Docs To Go™ Free Office Suite':\n",
    "    if ord(char) < 127:\n",
    "        print(True)\n",
    "    else:\n",
    "        print(False)"
   ]
  },
  {
   "cell_type": "code",
   "execution_count": 201,
   "metadata": {},
   "outputs": [
    {
     "name": "stdout",
     "output_type": "stream",
     "text": [
      "False\n"
     ]
    }
   ],
   "source": [
    "text = 'Instachat 😜'\n",
    "\n",
    "for char in text:\n",
    "    if ord(char) > 127:\n",
    "        print(False)\n",
    "    "
   ]
  },
  {
   "cell_type": "code",
   "execution_count": 202,
   "metadata": {},
   "outputs": [],
   "source": [
    "\n",
    "# change the original function such that if the count of non-English characters, in a string, is 3 or over, then\n",
    "# return the string as False otherwise return True. This will cater for characters such as emoticons and trademarks\n",
    "# which are not non-English\n",
    "\n",
    "def is_english(text):\n",
    "    count = 0\n",
    "    for char in text:\n",
    "        if ord(char) > 127:\n",
    "            count += 1\n",
    "    if count >= 3:\n",
    "        return False\n",
    "    \n",
    "    return True"
   ]
  },
  {
   "cell_type": "code",
   "execution_count": 203,
   "metadata": {},
   "outputs": [
    {
     "data": {
      "text/plain": [
       "True"
      ]
     },
     "execution_count": 203,
     "metadata": {},
     "output_type": "execute_result"
    }
   ],
   "source": [
    "is_english('angela')"
   ]
  },
  {
   "cell_type": "code",
   "execution_count": 204,
   "metadata": {},
   "outputs": [
    {
     "data": {
      "text/plain": [
       "True"
      ]
     },
     "execution_count": 204,
     "metadata": {},
     "output_type": "execute_result"
    }
   ],
   "source": [
    "is_english(android_clean[7940][0])"
   ]
  },
  {
   "cell_type": "code",
   "execution_count": 205,
   "metadata": {},
   "outputs": [
    {
     "name": "stdout",
     "output_type": "stream",
     "text": [
      "False\n"
     ]
    }
   ],
   "source": [
    "print(is_english(\n",
    "'爱奇艺PPS -《欢乐颂2》电视剧热播'))"
   ]
  },
  {
   "cell_type": "code",
   "execution_count": 206,
   "metadata": {},
   "outputs": [
    {
     "name": "stdout",
     "output_type": "stream",
     "text": [
      "True\n",
      "True\n",
      "True\n"
     ]
    }
   ],
   "source": [
    "print(is_english('Instagram'))\n",
    "print(is_english('Docs To Go™ Free Office Suite'))\n",
    "print(is_english('Instachat 😜'))"
   ]
  },
  {
   "cell_type": "code",
   "execution_count": 207,
   "metadata": {},
   "outputs": [],
   "source": [
    "# extract the number of English apps in both the android and apple datasets\n",
    "\n",
    "english_apple_app, english_android_app = [], []\n",
    "\n",
    "for row in apple_data[1:]:\n",
    "    name = row[1]\n",
    "    if is_english(name):\n",
    "        english_apple_app.append(row)"
   ]
  },
  {
   "cell_type": "code",
   "execution_count": 208,
   "metadata": {},
   "outputs": [],
   "source": [
    "for row in android_clean:\n",
    "    name = row[0]\n",
    "    if is_english(name):\n",
    "        english_android_app.append(row)"
   ]
  },
  {
   "cell_type": "code",
   "execution_count": 209,
   "metadata": {},
   "outputs": [
    {
     "name": "stdout",
     "output_type": "stream",
     "text": [
      "['284882215', 'Facebook', '389879808', 'USD', '0.0', '2974676', '212', '3.5', '3.5', '95.0', '4+', 'Social Networking', '37', '1', '29', '1']\n",
      "\n",
      "\n",
      "['389801252', 'Instagram', '113954816', 'USD', '0.0', '2161558', '1289', '4.5', '4.0', '10.23', '12+', 'Photo & Video', '37', '0', '29', '1']\n",
      "\n",
      "\n",
      "['529479190', 'Clash of Clans', '116476928', 'USD', '0.0', '2130805', '579', '4.5', '4.5', '9.24.12', '9+', 'Games', '38', '5', '18', '1']\n",
      "\n",
      "\n",
      "['420009108', 'Temple Run', '65921024', 'USD', '0.0', '1724546', '3842', '4.5', '4.0', '1.6.2', '9+', 'Games', '40', '5', '1', '1']\n",
      "\n",
      "\n",
      "['284035177', 'Pandora - Music & Radio', '130242560', 'USD', '0.0', '1126879', '3594', '4.0', '4.5', '8.4.1', '12+', 'Music', '37', '4', '1', '1']\n",
      "\n",
      "\n",
      "Number of rows: 5794\n",
      "Number of columns: 16\n"
     ]
    }
   ],
   "source": [
    "explore_data(english_apple_app, 0, 5, True)"
   ]
  },
  {
   "cell_type": "code",
   "execution_count": 210,
   "metadata": {},
   "outputs": [
    {
     "name": "stdout",
     "output_type": "stream",
     "text": [
      "['Photo Editor & Candy Camera & Grid & ScrapBook', 'ART_AND_DESIGN', '4.1', '159', '19M', '10,000+', 'Free', '0', 'Everyone', 'Art & Design', 'January 7, 2018', '1.0.0', '4.0.3 and up']\n",
      "\n",
      "\n",
      "['Sketch - Draw & Paint', 'ART_AND_DESIGN', '4.5', '215644', '25M', '50,000,000+', 'Free', '0', 'Teen', 'Art & Design', 'June 8, 2018', 'Varies with device', '4.2 and up']\n",
      "\n",
      "\n",
      "['Pixel Draw - Number Art Coloring Book', 'ART_AND_DESIGN', '4.3', '967', '2.8M', '100,000+', 'Free', '0', 'Everyone', 'Art & Design;Creativity', 'June 20, 2018', '1.1', '4.4 and up']\n",
      "\n",
      "\n",
      "['Paper flowers instructions', 'ART_AND_DESIGN', '4.4', '167', '5.6M', '50,000+', 'Free', '0', 'Everyone', 'Art & Design', 'March 26, 2017', '1.0', '2.3 and up']\n",
      "\n",
      "\n",
      "['Smoke Effect Photo Maker - Smoke Editor', 'ART_AND_DESIGN', '3.8', '178', '19M', '50,000+', 'Free', '0', 'Everyone', 'Art & Design', 'April 26, 2018', '1.1', '4.0.3 and up']\n",
      "\n",
      "\n",
      "Number of rows: 9268\n",
      "Number of columns: 13\n"
     ]
    }
   ],
   "source": [
    "explore_data(english_android_app, 0, 5, True)"
   ]
  },
  {
   "cell_type": "code",
   "execution_count": 211,
   "metadata": {},
   "outputs": [
    {
     "name": "stdout",
     "output_type": "stream",
     "text": [
      "['App', 'Category', 'Rating', 'Reviews', 'Size', 'Installs', 'Type', 'Price', 'Content Rating', 'Genres', 'Last Updated', 'Current Ver', 'Android Ver']\n",
      "['id', 'track_name', 'size_bytes', 'currency', 'price', 'rating_count_tot', 'rating_count_ver', 'user_rating', 'user_rating_ver', 'ver', 'cont_rating', 'prime_genre', 'sup_devices.num', 'ipadSc_urls.num', 'lang.num', 'vpp_lic']\n"
     ]
    },
    {
     "data": {
      "text/plain": [
       "(None, None)"
      ]
     },
     "execution_count": 211,
     "metadata": {},
     "output_type": "execute_result"
    }
   ],
   "source": [
    "print(header_google), print(header_apple)"
   ]
  },
  {
   "cell_type": "code",
   "execution_count": 212,
   "metadata": {},
   "outputs": [],
   "source": [
    "free_apps_google, free_apps_apple = [], []\n",
    "\n",
    "for row in english_apple_app:\n",
    "    if row[4] == '0.0':\n",
    "        free_apps_apple.append(row)\n",
    "        \n",
    "for row in english_android_app:\n",
    "    if row[6] == 'Free':\n",
    "        free_apps_google.append(row)"
   ]
  },
  {
   "cell_type": "code",
   "execution_count": 213,
   "metadata": {},
   "outputs": [
    {
     "name": "stdout",
     "output_type": "stream",
     "text": [
      "['284882215', 'Facebook', '389879808', 'USD', '0.0', '2974676', '212', '3.5', '3.5', '95.0', '4+', 'Social Networking', '37', '1', '29', '1']\n",
      "\n",
      "\n",
      "['389801252', 'Instagram', '113954816', 'USD', '0.0', '2161558', '1289', '4.5', '4.0', '10.23', '12+', 'Photo & Video', '37', '0', '29', '1']\n",
      "\n",
      "\n",
      "['529479190', 'Clash of Clans', '116476928', 'USD', '0.0', '2130805', '579', '4.5', '4.5', '9.24.12', '9+', 'Games', '38', '5', '18', '1']\n",
      "\n",
      "\n",
      "['420009108', 'Temple Run', '65921024', 'USD', '0.0', '1724546', '3842', '4.5', '4.0', '1.6.2', '9+', 'Games', '40', '5', '1', '1']\n",
      "\n",
      "\n",
      "['284035177', 'Pandora - Music & Radio', '130242560', 'USD', '0.0', '1126879', '3594', '4.0', '4.5', '8.4.1', '12+', 'Music', '37', '4', '1', '1']\n",
      "\n",
      "\n",
      "Number of rows: 2970\n",
      "Number of columns: 16\n"
     ]
    }
   ],
   "source": [
    "# explore the google and apple datasets that should now contain english free apps\n",
    "\n",
    "explore_data(free_apps_apple, 0, 5, True)"
   ]
  },
  {
   "cell_type": "code",
   "execution_count": 214,
   "metadata": {},
   "outputs": [
    {
     "name": "stdout",
     "output_type": "stream",
     "text": [
      "['Photo Editor & Candy Camera & Grid & ScrapBook', 'ART_AND_DESIGN', '4.1', '159', '19M', '10,000+', 'Free', '0', 'Everyone', 'Art & Design', 'January 7, 2018', '1.0.0', '4.0.3 and up']\n",
      "\n",
      "\n",
      "['Sketch - Draw & Paint', 'ART_AND_DESIGN', '4.5', '215644', '25M', '50,000,000+', 'Free', '0', 'Teen', 'Art & Design', 'June 8, 2018', 'Varies with device', '4.2 and up']\n",
      "\n",
      "\n",
      "['Pixel Draw - Number Art Coloring Book', 'ART_AND_DESIGN', '4.3', '967', '2.8M', '100,000+', 'Free', '0', 'Everyone', 'Art & Design;Creativity', 'June 20, 2018', '1.1', '4.4 and up']\n",
      "\n",
      "\n",
      "['Paper flowers instructions', 'ART_AND_DESIGN', '4.4', '167', '5.6M', '50,000+', 'Free', '0', 'Everyone', 'Art & Design', 'March 26, 2017', '1.0', '2.3 and up']\n",
      "\n",
      "\n",
      "['Smoke Effect Photo Maker - Smoke Editor', 'ART_AND_DESIGN', '3.8', '178', '19M', '50,000+', 'Free', '0', 'Everyone', 'Art & Design', 'April 26, 2018', '1.1', '4.0.3 and up']\n",
      "\n",
      "\n",
      "Number of rows: 8542\n",
      "Number of columns: 13\n"
     ]
    }
   ],
   "source": [
    "explore_data(free_apps_google, 0, 5, True)"
   ]
  },
  {
   "cell_type": "markdown",
   "metadata": {
    "variables": {
     "len(free_apps_apple)": "2970",
     "len(free_apps_google)": "8542"
    }
   },
   "source": [
    "So now there {{len(free_apps_google)}} free apps in the google dataset and {{len(free_apps_apple)}} in the apple dataset respectively"
   ]
  },
  {
   "cell_type": "markdown",
   "metadata": {},
   "source": [
    "# What sort of apps could be profitable ?\n",
    "\n",
    "The goal of this project is to determine the type of apps that would attract more users as our revenue is determined by the numbers of people using our apps.\n",
    "\n",
    "So far the following has been done to the two datasets:\n",
    "\n",
    "* Removed inaccurate data\n",
    "* Removed duplicate app entries\n",
    "* Removed non-English apps\n",
    "* Isolated the free apps\n",
    "\n",
    "The validation strategy to understand better our customers, and the types of app that would appeal to them, is:\n",
    "\n",
    "* Build a minimal Android version of the app, and add it to the Google Play store\n",
    "* If there is a good response to the app, then develop it further\n",
    "* If the app is profitable after 6 months, then an iOS version will be built and added to the Apple store\n",
    "\n",
    "Look through the dataset columns, of both datasets, to see which columns indicate the most common genres in each app market"
   ]
  },
  {
   "cell_type": "markdown",
   "metadata": {
    "variables": {
     "header_apple": "[&#39;id&#39;,\n &#39;track_name&#39;,\n &#39;size_bytes&#39;,\n &#39;currency&#39;,\n &#39;price&#39;,\n &#39;rating_count_tot&#39;,\n &#39;rating_count_ver&#39;,\n &#39;user_rating&#39;,\n &#39;user_rating_ver&#39;,\n &#39;ver&#39;,\n &#39;cont_rating&#39;,\n &#39;prime_genre&#39;,\n &#39;sup_devices.num&#39;,\n &#39;ipadSc_urls.num&#39;,\n &#39;lang.num&#39;,\n &#39;vpp_lic&#39;]"
    }
   },
   "source": [
    "As you can see after inspecting a few rows of the apple dataset, and it's header, the prime_genre column would be a good frequency indicator: \n",
    "**{{header_apple}}**"
   ]
  },
  {
   "cell_type": "markdown",
   "metadata": {
    "variables": {
     "header_google": "[&#39;App&#39;,\n &#39;Category&#39;,\n &#39;Rating&#39;,\n &#39;Reviews&#39;,\n &#39;Size&#39;,\n &#39;Installs&#39;,\n &#39;Type&#39;,\n &#39;Price&#39;,\n &#39;Content Rating&#39;,\n &#39;Genres&#39;,\n &#39;Last Updated&#39;,\n &#39;Current Ver&#39;,\n &#39;Android Ver&#39;]"
    }
   },
   "source": [
    "And from the google dataset, the following columns could be used to indicate frequency, Genres and Category:     **{{header_google}}**\n",
    "\n",
    "We will generate frequency tables starting with a function, that has dataset and column index as arguments, and returns counts in percentages"
   ]
  },
  {
   "cell_type": "code",
   "execution_count": 215,
   "metadata": {},
   "outputs": [
    {
     "name": "stdout",
     "output_type": "stream",
     "text": [
      "Games : 59.22558922559027\n",
      "Entertainment : 7.542087542087555\n",
      "Photo & Video : 5.084175084175092\n",
      "Education : 3.80471380471381\n",
      "Social Networking : 3.0976430976431013\n",
      "Shopping : 2.491582491582494\n",
      "Utilities : 2.255892255892258\n",
      "Sports : 2.1548821548821566\n",
      "Music : 2.121212121212123\n",
      "Health & Fitness : 1.9528619528619544\n",
      "Productivity : 1.6835016835016845\n",
      "Lifestyle : 1.4478114478114483\n",
      "News : 1.346801346801347\n",
      "Travel : 1.111111111111111\n",
      "Finance : 1.111111111111111\n",
      "Weather : 0.8754208754208751\n",
      "Food & Drink : 0.8754208754208751\n",
      "Reference : 0.5387205387205388\n",
      "Business : 0.5387205387205388\n",
      "Book : 0.2693602693602694\n",
      "Medical : 0.20202020202020204\n",
      "Navigation : 0.16835016835016836\n",
      "Catalogs : 0.10101010101010101\n",
      "None\n",
      "\n",
      "FAMILY : 19.129009599625167\n",
      "GAME : 9.353781315851197\n",
      "TOOLS : 8.522594240224867\n",
      "BUSINESS : 4.659330367595447\n",
      "PRODUCTIVITY : 3.945211894170009\n",
      "LIFESTYLE : 3.945211894170009\n",
      "FINANCE : 3.79302271130885\n",
      "MEDICAL : 3.629126668227602\n",
      "SPORTS : 3.418403184265997\n",
      "PERSONALIZATION : 3.254507141184749\n",
      "COMMUNICATION : 3.24280028096466\n",
      "HEALTH_AND_FITNESS : 3.10231795832359\n",
      "PHOTOGRAPHY : 2.9735424959026093\n",
      "NEWS_AND_MAGAZINES : 2.8447670334816286\n",
      "SOCIAL : 2.6691641301802913\n",
      "TRAVEL_AND_LOCAL : 2.3062514633575275\n",
      "SHOPPING : 2.2243034418169034\n",
      "BOOKS_AND_REFERENCE : 2.177476000936547\n",
      "DATING : 1.8028564738936976\n",
      "VIDEO_PLAYERS : 1.744322172793253\n",
      "MAPS_AND_NAVIGATION : 1.381409505970496\n",
      "FOOD_AND_DRINK : 1.2643409037696067\n",
      "EDUCATION : 1.1472723015687174\n",
      "AUTO_AND_VEHICLES : 0.9248419573870276\n",
      "LIBRARIES_AND_DEMO : 0.9131350971669386\n",
      "ENTERTAINMENT : 0.842893935846405\n",
      "HOUSE_AND_HOME : 0.8077733551861382\n",
      "WEATHER : 0.7843596347459604\n",
      "EVENTS : 0.7024116132053378\n",
      "ART_AND_DESIGN : 0.6555841723249821\n",
      "PARENTING : 0.6438773121048932\n",
      "BEAUTY : 0.6204635916647153\n",
      "COMICS : 0.5736361507843596\n",
      "None\n",
      "\n",
      "Tools : 8.510887380004778\n",
      "Entertainment : 6.087567314446324\n",
      "Education : 5.4436900023414205\n",
      "Business : 4.659330367595447\n",
      "Productivity : 3.945211894170009\n",
      "Lifestyle : 3.93350503394992\n",
      "Finance : 3.79302271130885\n",
      "Medical : 3.629126668227602\n",
      "Sports : 3.465230625146354\n",
      "Personalization : 3.254507141184749\n",
      "Communication : 3.24280028096466\n",
      "Health & Fitness : 3.10231795832359\n",
      "Action : 3.090611098103501\n",
      "Photography : 2.9735424959026093\n",
      "News & Magazines : 2.8447670334816286\n",
      "Social : 2.6691641301802913\n",
      "Travel & Local : 2.2945446031374384\n",
      "Shopping : 2.2243034418169034\n",
      "Books & Reference : 2.177476000936547\n",
      "Simulation : 2.048700538515566\n",
      "Arcade : 1.8496839147740534\n",
      "Dating : 1.8028564738936976\n",
      "Video Players & Editors : 1.744322172793253\n",
      "Casual : 1.732615312573164\n",
      "Maps & Navigation : 1.381409505970496\n",
      "Food & Drink : 1.2643409037696067\n",
      "Puzzle : 1.1472723015687174\n",
      "Racing : 1.0067899789276502\n",
      "Role Playing : 0.9248419573870276\n",
      "Auto & Vehicles : 0.9248419573870276\n",
      "Libraries & Demo : 0.9131350971669386\n",
      "Strategy : 0.8780145165066718\n",
      "House & Home : 0.8077733551861382\n",
      "Weather : 0.7843596347459604\n",
      "Events : 0.7024116132053378\n",
      "Adventure : 0.6555841723249821\n",
      "Beauty : 0.6204635916647153\n",
      "Art & Design : 0.6087567314446264\n",
      "Comics : 0.5619292905642707\n",
      "Parenting : 0.49168812924373706\n",
      "Trivia : 0.40974010770311414\n",
      "Educational;Education : 0.40974010770311414\n",
      "Educational : 0.38632638726293617\n",
      "Card : 0.38632638726293617\n",
      "Casino : 0.3746195270428472\n",
      "Board : 0.3746195270428472\n",
      "Education;Education : 0.3512058066026692\n",
      "Word : 0.2458440646218683\n",
      "Music : 0.19901662374151247\n",
      "Casual;Pretend Play : 0.1873097635214235\n",
      "Puzzle;Brain Games : 0.17560290330133455\n",
      "Entertainment;Music & Video : 0.16389604308124558\n",
      "Racing;Action & Adventure : 0.15218918286115662\n",
      "Casual;Brain Games : 0.14048232264106766\n",
      "Casual;Action & Adventure : 0.1287754624209787\n",
      "Arcade;Action & Adventure : 0.10536174198080075\n",
      "Educational;Pretend Play : 0.09365488176071178\n",
      "Simulation;Action & Adventure : 0.0819480215406228\n",
      "Parenting;Education : 0.0819480215406228\n",
      "Action;Action & Adventure : 0.0819480215406228\n",
      "Entertainment;Brain Games : 0.07024116132053383\n",
      "Art & Design;Creativity : 0.07024116132053383\n",
      "Parenting;Music & Video : 0.058534301100444865\n",
      "Education;Pretend Play : 0.058534301100444865\n",
      "Board;Brain Games : 0.058534301100444865\n",
      "Role Playing;Pretend Play : 0.04682744088035589\n",
      "Educational;Brain Games : 0.04682744088035589\n",
      "Education;Creativity : 0.04682744088035589\n",
      "Casual;Creativity : 0.04682744088035589\n",
      "Role Playing;Action & Adventure : 0.035120580660266916\n",
      "Puzzle;Action & Adventure : 0.035120580660266916\n",
      "Educational;Creativity : 0.035120580660266916\n",
      "Educational;Action & Adventure : 0.035120580660266916\n",
      "Education;Music & Video : 0.035120580660266916\n",
      "Education;Action & Adventure : 0.035120580660266916\n",
      "Adventure;Action & Adventure : 0.035120580660266916\n",
      "Video Players & Editors;Music & Video : 0.023413720440177945\n",
      "Sports;Action & Adventure : 0.023413720440177945\n",
      "Simulation;Pretend Play : 0.023413720440177945\n",
      "Puzzle;Creativity : 0.023413720440177945\n",
      "Music;Music & Video : 0.023413720440177945\n",
      "Entertainment;Pretend Play : 0.023413720440177945\n",
      "Entertainment;Creativity : 0.023413720440177945\n",
      "Entertainment;Action & Adventure : 0.023413720440177945\n",
      "Education;Brain Games : 0.023413720440177945\n",
      "Casual;Education : 0.023413720440177945\n",
      "Board;Action & Adventure : 0.023413720440177945\n",
      "Trivia;Education : 0.011706860220088973\n",
      "Travel & Local;Action & Adventure : 0.011706860220088973\n",
      "Tools;Education : 0.011706860220088973\n",
      "Strategy;Education : 0.011706860220088973\n",
      "Strategy;Creativity : 0.011706860220088973\n",
      "Simulation;Education : 0.011706860220088973\n",
      "Role Playing;Brain Games : 0.011706860220088973\n",
      "Racing;Pretend Play : 0.011706860220088973\n",
      "Puzzle;Education : 0.011706860220088973\n",
      "Parenting;Brain Games : 0.011706860220088973\n",
      "Music & Audio;Music & Video : 0.011706860220088973\n",
      "Lifestyle;Pretend Play : 0.011706860220088973\n",
      "Health & Fitness;Education : 0.011706860220088973\n",
      "Health & Fitness;Action & Adventure : 0.011706860220088973\n",
      "Entertainment;Education : 0.011706860220088973\n",
      "Comics;Creativity : 0.011706860220088973\n",
      "Card;Brain Games : 0.011706860220088973\n",
      "Card;Action & Adventure : 0.011706860220088973\n",
      "Books & Reference;Education : 0.011706860220088973\n",
      "Art & Design;Pretend Play : 0.011706860220088973\n",
      "Art & Design;Action & Adventure : 0.011706860220088973\n",
      "Arcade;Pretend Play : 0.011706860220088973\n",
      "Adventure;Education : 0.011706860220088973\n",
      "None\n"
     ]
    }
   ],
   "source": [
    "def freq_table(dataset, index):\n",
    "    freq_table = {}\n",
    "    name_of_col = []\n",
    "    length_of_dataset = len(dataset)\n",
    "    for row in dataset:\n",
    "        col = row[index]\n",
    "        name_of_col.append(col)\n",
    "    \n",
    "    for col in name_of_col:\n",
    "        if col in freq_table:\n",
    "            freq_table[col] += 1/length_of_dataset * 100\n",
    "        else:\n",
    "            freq_table[col] = 1/length_of_dataset * 100\n",
    "    return freq_table\n",
    "\n",
    "\n",
    "def display_table(dataset, index):\n",
    "    table = freq_table(dataset, index)\n",
    "    table_display = []\n",
    "    for key in table:\n",
    "        key_val_as_tuple = (table[key], key)\n",
    "        table_display.append(key_val_as_tuple)\n",
    "    table_sorted = sorted(table_display, reverse = True)   \n",
    "    \n",
    "    for entry in table_sorted:\n",
    "        print(entry[1], ':', entry[0])\n",
    "\n",
    "#prime_genre       \n",
    "pprint.pprint(display_table(free_apps_apple, -5))  \n",
    "print('')\n",
    "\n",
    "#Category\n",
    "pprint.pprint(display_table(free_apps_google, 1))\n",
    "print('')\n",
    "\n",
    "#Genres\n",
    "pprint.pprint(display_table(free_apps_google, -4)) \n",
    "\n",
    " "
   ]
  },
  {
   "cell_type": "markdown",
   "metadata": {},
   "source": [
    "In answer to the following question for the prime_genre column of the App Store dataset:\n",
    "\n",
    "* What is the most common genre ? \n",
    "* What is the runner-up ? \n",
    "\n",
    "The most popular genre by far is the Games category (59%) while the second most popular is Entertainment (7%). Photo and video apps account for 5% with social networking apps making up 3%.\n",
    "\n",
    "There are [6](https://duckma.com/en/blog/types-of-mobile-apps) main type of mobile apps: lifestyle mobile apps, social media apps, utility mobile apps, games/entertainment apps, productivity apps and news information apps.\n",
    "\n",
    "As can be seen from the App store dataset, more than 75% of the apps are dedicated to leisure (games, entertainment, social networking, photo and video, sports, music, health and fitness) with the rest left for practical pursuits such as education, shopping, productivity, business, news, travel and lifestyle.\n",
    "\n",
    "Examination of the genre and category columns of the Google Play dataset shows the complete opposite. Just 15% of apps in this dataset are dedicated to recreation (games/entertainment, health and fitness, social) with the rest of the apps (85%) being for more utilitarian pursuits (family, productivity, business, education, travel, news, finance, personalization) with the largest category being that of family (19%).\n",
    "\n",
    "I would argue, judging from the research, that an app profile for the Google Play store should be utilitarian. Further investigation to determine which of the genres/categories had the most users would confirm this. Also since the Android operating system is the most popular smartphone operating system on the planet, with a user base of [2.5 billion](https://www.theverge.com/2019/5/7/18528297/google-io-2019-android-devices-play-store-total-number-statistic-keynote), it would make sense to build for this market first. \n",
    "\n",
    "\n",
    "\n",
    "\n",
    "\n"
   ]
  },
  {
   "cell_type": "code",
   "execution_count": null,
   "metadata": {},
   "outputs": [],
   "source": []
  }
 ],
 "metadata": {
  "kernelspec": {
   "display_name": "Python 3",
   "language": "python",
   "name": "python3"
  },
  "language_info": {
   "codemirror_mode": {
    "name": "ipython",
    "version": 3
   },
   "file_extension": ".py",
   "mimetype": "text/x-python",
   "name": "python",
   "nbconvert_exporter": "python",
   "pygments_lexer": "ipython3",
   "version": "3.6.9"
  }
 },
 "nbformat": 4,
 "nbformat_minor": 4
}
