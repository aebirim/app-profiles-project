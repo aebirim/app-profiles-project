{
 "cells": [
  {
   "cell_type": "markdown",
   "metadata": {},
   "source": [
    "# Profitable App Profiles for the App Store and Google Play Markets\n",
    "\n",
    "The goal of this project is to analyze data in the app stores to help our developers understand what type of apps are likely to attract more users.\n",
    "\n",
    "I work for a company that builds Android and iOS mobile apps and these apps are available on Google Play and the App Store. The company primarily builds apps that are free to download and install however it's main source of revenue consists of in-app ads. This means that the revenue is driven by the number of users who use the apps - the more users that see and engage with the ads, the better.\n",
    "\n",
    "* The App Store dataset can be downloaded directly from this [link](https://dq-content.s3.amazonaws.com/350/AppleStore.csv)\n",
    "\n",
    "* The Google Play dataset can be downloaded directly from this [link](https://dq-content.s3.amazonaws.com/350/googleplaystore.csv)\n",
    "\n"
   ]
  },
  {
   "cell_type": "code",
   "execution_count": 130,
   "metadata": {
    "scrolled": true
   },
   "outputs": [
    {
     "name": "stdout",
     "output_type": "stream",
     "text": [
      "Collecting autopep8\n",
      "  Using cached https://files.pythonhosted.org/packages/58/e5/a06510cfa9caaaffebf74084f8886a93a96273dbf22a1c920ca1af00997a/autopep8-1.5.5-py2.py3-none-any.whl\n",
      "Collecting pycodestyle>=2.6.0 (from autopep8)\n",
      "  Using cached https://files.pythonhosted.org/packages/10/5b/88879fb861ab79aef45c7e199cae3ef7af487b5603dcb363517a50602dd7/pycodestyle-2.6.0-py2.py3-none-any.whl\n",
      "Collecting toml (from autopep8)\n",
      "  Using cached https://files.pythonhosted.org/packages/44/6f/7120676b6d73228c96e17f1f794d8ab046fc910d781c8d151120c3f1569e/toml-0.10.2-py2.py3-none-any.whl\n",
      "Installing collected packages: pycodestyle, toml, autopep8\n",
      "Successfully installed autopep8-1.5.5 pycodestyle-2.6.0 toml-0.10.2\n"
     ]
    }
   ],
   "source": [
    "!pip3 install autopep8"
   ]
  },
  {
   "cell_type": "code",
   "execution_count": 131,
   "metadata": {},
   "outputs": [],
   "source": [
    "# Download the App store and Google Play datasets\n",
    "\n",
    "import requests\n",
    "import csv\n",
    "\n",
    "urls = [\n",
    "    \"https://dq-content.s3.amazonaws.com/350/AppleStore.csv\", \n",
    "    \"https://dq-content.s3.amazonaws.com/350/googleplaystore.csv\"\n",
    "       ]\n",
    "\n",
    "for url in urls:\n",
    "    x = url.split(\"/\")\n",
    "    params = 'datasets'\n",
    "    params += '/'\n",
    "    params += x[-1]\n",
    "    \n",
    "    download = requests.get(url)\n",
    "    output = download.text\n",
    "    with open(params, 'w') as temp_file:\n",
    "        temp_file.writelines(output)\n",
    "    \n",
    "    "
   ]
  },
  {
   "cell_type": "code",
   "execution_count": 132,
   "metadata": {},
   "outputs": [],
   "source": [
    "# open the App store and Google Play datasets\n",
    "from csv import reader\n",
    "import pprint\n",
    "\n",
    "apple_file = 'datasets/AppleStore.csv'\n",
    "google_file = 'datasets/googleplaystore.csv'\n",
    "\n",
    "def open_file(file):\n",
    "    try:\n",
    "        opened_file = open(file)\n",
    "    except OSError as e:\n",
    "        print(\"Failure to open file\", e)\n",
    "        \n",
    "    reader_file = reader(opened_file)\n",
    "    data = list(reader_file)\n",
    "    return data\n",
    "\n",
    "apple_data = open_file(apple_file)  \n",
    "google_data = open_file(google_file)\n"
   ]
  },
  {
   "cell_type": "markdown",
   "metadata": {},
   "source": [
    "The explore_data function allows you to explore the dataset in a more readable way. The function also lets you count the number of rows and columns for the dataset"
   ]
  },
  {
   "cell_type": "code",
   "execution_count": 133,
   "metadata": {
    "scrolled": true
   },
   "outputs": [
    {
     "name": "stdout",
     "output_type": "stream",
     "text": [
      "['id', 'track_name', 'size_bytes', 'currency', 'price', 'rating_count_tot', 'rating_count_ver', 'user_rating', 'user_rating_ver', 'ver', 'cont_rating', 'prime_genre', 'sup_devices.num', 'ipadSc_urls.num', 'lang.num', 'vpp_lic']\n",
      "\n",
      "\n",
      "['284882215', 'Facebook', '389879808', 'USD', '0.0', '2974676', '212', '3.5', '3.5', '95.0', '4+', 'Social Networking', '37', '1', '29', '1']\n",
      "\n",
      "\n",
      "['389801252', 'Instagram', '113954816', 'USD', '0.0', '2161558', '1289', '4.5', '4.0', '10.23', '12+', 'Photo & Video', '37', '0', '29', '1']\n",
      "\n",
      "\n",
      "['529479190', 'Clash of Clans', '116476928', 'USD', '0.0', '2130805', '579', '4.5', '4.5', '9.24.12', '9+', 'Games', '38', '5', '18', '1']\n",
      "\n",
      "\n",
      "['420009108', 'Temple Run', '65921024', 'USD', '0.0', '1724546', '3842', '4.5', '4.0', '1.6.2', '9+', 'Games', '40', '5', '1', '1']\n",
      "\n",
      "\n"
     ]
    }
   ],
   "source": [
    "# explore the datasets\n",
    "def explore_data(dataset, start, end, rows_and_columns=False):\n",
    "    dataset_slice = dataset[start:end]\n",
    "    for row in dataset_slice:\n",
    "        print(row)\n",
    "        print('\\n')\n",
    "        \n",
    "    if rows_and_columns:\n",
    "        print(\"Number of rows:\", len(dataset))\n",
    "        print(\"Number of columns:\", len(dataset[0]))\n",
    "    \n",
    "explore_data(apple_data, 0, 5)"
   ]
  },
  {
   "cell_type": "code",
   "execution_count": 134,
   "metadata": {},
   "outputs": [
    {
     "name": "stdout",
     "output_type": "stream",
     "text": [
      "['id', 'track_name', 'size_bytes', 'currency', 'price', 'rating_count_tot', 'rating_count_ver', 'user_rating', 'user_rating_ver', 'ver', 'cont_rating', 'prime_genre', 'sup_devices.num', 'ipadSc_urls.num', 'lang.num', 'vpp_lic']\n",
      "\n",
      "\n",
      "['284882215', 'Facebook', '389879808', 'USD', '0.0', '2974676', '212', '3.5', '3.5', '95.0', '4+', 'Social Networking', '37', '1', '29', '1']\n",
      "\n",
      "\n",
      "['389801252', 'Instagram', '113954816', 'USD', '0.0', '2161558', '1289', '4.5', '4.0', '10.23', '12+', 'Photo & Video', '37', '0', '29', '1']\n",
      "\n",
      "\n",
      "['529479190', 'Clash of Clans', '116476928', 'USD', '0.0', '2130805', '579', '4.5', '4.5', '9.24.12', '9+', 'Games', '38', '5', '18', '1']\n",
      "\n",
      "\n",
      "['420009108', 'Temple Run', '65921024', 'USD', '0.0', '1724546', '3842', '4.5', '4.0', '1.6.2', '9+', 'Games', '40', '5', '1', '1']\n",
      "\n",
      "\n",
      "Number of rows: 7198\n",
      "Number of columns: 16\n"
     ]
    }
   ],
   "source": [
    "def explore_data(dataset, start, end, rows_and_columns=False):\n",
    "    dataset_slice = dataset[start:end]\n",
    "    for row in dataset_slice:\n",
    "        print(row)\n",
    "        print('\\n')\n",
    "        \n",
    "    if rows_and_columns:\n",
    "        print(\"Number of rows:\", len(dataset))\n",
    "        print(\"Number of columns:\", len(dataset[0]))\n",
    "    \n",
    "explore_data(apple_data, 0, 5, True)"
   ]
  },
  {
   "cell_type": "markdown",
   "metadata": {},
   "source": [
    "Documentation describing the columns for the iOs App store dataset and Google Play dataset can be found [here](https://kaggle.com/ramamet4/app-store-apple-data-set-10k-apps/home) and [here](https://kaggle.com/lava18/google-play-store-apps) respectively"
   ]
  },
  {
   "cell_type": "code",
   "execution_count": 135,
   "metadata": {
    "scrolled": true
   },
   "outputs": [
    {
     "name": "stdout",
     "output_type": "stream",
     "text": [
      "['App', 'Category', 'Rating', 'Reviews', 'Size', 'Installs', 'Type', 'Price', 'Content Rating', 'Genres', 'Last Updated', 'Current Ver', 'Android Ver']\n",
      "\n",
      "\n",
      "['Photo Editor & Candy Camera & Grid & ScrapBook', 'ART_AND_DESIGN', '4.1', '159', '19M', '10,000+', 'Free', '0', 'Everyone', 'Art & Design', 'January 7, 2018', '1.0.0', '4.0.3 and up']\n",
      "\n",
      "\n",
      "['Coloring book moana', 'ART_AND_DESIGN', '3.9', '967', '14M', '500,000+', 'Free', '0', 'Everyone', 'Art & Design;Pretend Play', 'January 15, 2018', '2.0.0', '4.0.3 and up']\n",
      "\n",
      "\n",
      "['U Launcher Lite â\\x80\\x93 FREE Live Cool Themes, Hide Apps', 'ART_AND_DESIGN', '4.7', '87510', '8.7M', '5,000,000+', 'Free', '0', 'Everyone', 'Art & Design', 'August 1, 2018', '1.2.4', '4.0.3 and up']\n",
      "\n",
      "\n",
      "['Sketch - Draw & Paint', 'ART_AND_DESIGN', '4.5', '215644', '25M', '50,000,000+', 'Free', '0', 'Teen', 'Art & Design', 'June 8, 2018', 'Varies with device', '4.2 and up']\n",
      "\n",
      "\n"
     ]
    }
   ],
   "source": [
    "explore_data(google_data, 0, 5)"
   ]
  },
  {
   "cell_type": "code",
   "execution_count": 136,
   "metadata": {},
   "outputs": [
    {
     "name": "stdout",
     "output_type": "stream",
     "text": [
      "['App', 'Category', 'Rating', 'Reviews', 'Size', 'Installs', 'Type', 'Price', 'Content Rating', 'Genres', 'Last Updated', 'Current Ver', 'Android Ver']\n",
      "\n",
      "\n",
      "['Photo Editor & Candy Camera & Grid & ScrapBook', 'ART_AND_DESIGN', '4.1', '159', '19M', '10,000+', 'Free', '0', 'Everyone', 'Art & Design', 'January 7, 2018', '1.0.0', '4.0.3 and up']\n",
      "\n",
      "\n",
      "['Coloring book moana', 'ART_AND_DESIGN', '3.9', '967', '14M', '500,000+', 'Free', '0', 'Everyone', 'Art & Design;Pretend Play', 'January 15, 2018', '2.0.0', '4.0.3 and up']\n",
      "\n",
      "\n",
      "['U Launcher Lite â\\x80\\x93 FREE Live Cool Themes, Hide Apps', 'ART_AND_DESIGN', '4.7', '87510', '8.7M', '5,000,000+', 'Free', '0', 'Everyone', 'Art & Design', 'August 1, 2018', '1.2.4', '4.0.3 and up']\n",
      "\n",
      "\n",
      "['Sketch - Draw & Paint', 'ART_AND_DESIGN', '4.5', '215644', '25M', '50,000,000+', 'Free', '0', 'Teen', 'Art & Design', 'June 8, 2018', 'Varies with device', '4.2 and up']\n",
      "\n",
      "\n",
      "Number of rows: 10842\n",
      "Number of columns: 13\n"
     ]
    }
   ],
   "source": [
    "explore_data(google_data, 0, 5, True)"
   ]
  },
  {
   "cell_type": "code",
   "execution_count": 137,
   "metadata": {},
   "outputs": [],
   "source": [
    "# show the headers for each dataset\n",
    "\n",
    "header_apple = apple_data[0]\n",
    "header_google = google_data[0]"
   ]
  },
  {
   "cell_type": "markdown",
   "metadata": {},
   "source": [
    "# Data cleaning"
   ]
  },
  {
   "cell_type": "markdown",
   "metadata": {},
   "source": [
    "Check the datasets and ensure each row has the correct number of columns"
   ]
  },
  {
   "cell_type": "code",
   "execution_count": 138,
   "metadata": {},
   "outputs": [],
   "source": [
    "def check_dataset(dataset):\n",
    "    for count, row in enumerate(dataset):\n",
    "        header_length = len(dataset[0])\n",
    "        if len(row) != header_length:\n",
    "            print(\"row:\",count,\"has\", len(row), \"columns instead of\", header_length)\n",
    "            \n",
    "check_dataset(apple_data)"
   ]
  },
  {
   "cell_type": "code",
   "execution_count": 139,
   "metadata": {},
   "outputs": [
    {
     "name": "stdout",
     "output_type": "stream",
     "text": [
      "row: 10473 has 12 columns instead of 13\n"
     ]
    }
   ],
   "source": [
    "check_dataset(google_data)"
   ]
  },
  {
   "cell_type": "markdown",
   "metadata": {},
   "source": [
    "This shows that row 10473, of the google dataset, has an incorrect number of columns. "
   ]
  },
  {
   "cell_type": "code",
   "execution_count": 140,
   "metadata": {},
   "outputs": [],
   "source": [
    "# delete the row with the missing column(s)\n",
    "\n",
    "del google_data[10473]"
   ]
  },
  {
   "cell_type": "code",
   "execution_count": 141,
   "metadata": {},
   "outputs": [
    {
     "data": {
      "text/plain": [
       "10841"
      ]
     },
     "execution_count": 141,
     "metadata": {},
     "output_type": "execute_result"
    }
   ],
   "source": [
    "# number of rows in dataset\n",
    "\n",
    "len(google_data)"
   ]
  },
  {
   "cell_type": "markdown",
   "metadata": {},
   "source": [
    "Check the Google Play dataset for duplicate app entries\n"
   ]
  },
  {
   "cell_type": "code",
   "execution_count": 142,
   "metadata": {
    "scrolled": true
   },
   "outputs": [
    {
     "name": "stdout",
     "output_type": "stream",
     "text": [
      "number of duplicates of google dataset: 1181\n",
      "\n",
      "\n",
      "examples of duplicate apps in google dataset: [['Box', 'BUSINESS', '4.2', '159872', 'Varies with device', '10,000,000+', 'Free', '0', 'Everyone', 'Business', 'July 31, 2018', 'Varies with device', 'Varies with device'], ['Google My Business', 'BUSINESS', '4.4', '70991', 'Varies with device', '5,000,000+', 'Free', '0', 'Everyone', 'Business', 'July 24, 2018', '2.19.0.204537701', '4.4 and up'], ['ZOOM Cloud Meetings', 'BUSINESS', '4.4', '31614', '37M', '10,000,000+', 'Free', '0', 'Everyone', 'Business', 'July 20, 2018', '4.1.28165.0716', '4.0 and up'], ['join.me - Simple Meetings', 'BUSINESS', '4.0', '6989', 'Varies with device', '1,000,000+', 'Free', '0', 'Everyone', 'Business', 'July 16, 2018', '4.3.0.508', '4.4 and up'], ['Box', 'BUSINESS', '4.2', '159872', 'Varies with device', '10,000,000+', 'Free', '0', 'Everyone', 'Business', 'July 31, 2018', 'Varies with device', 'Varies with device'], ['Zenefits', 'BUSINESS', '4.2', '296', '14M', '50,000+', 'Free', '0', 'Everyone', 'Business', 'June 15, 2018', '3.2.1', '4.1 and up'], ['Google Ads', 'BUSINESS', '4.3', '29313', '20M', '5,000,000+', 'Free', '0', 'Everyone', 'Business', 'July 30, 2018', '1.12.0', '4.0.3 and up'], ['Google My Business', 'BUSINESS', '4.4', '70991', 'Varies with device', '5,000,000+', 'Free', '0', 'Everyone', 'Business', 'July 24, 2018', '2.19.0.204537701', '4.4 and up'], ['Slack', 'BUSINESS', '4.4', '51507', 'Varies with device', '5,000,000+', 'Free', '0', 'Everyone', 'Business', 'August 2, 2018', 'Varies with device', 'Varies with device']]\n"
     ]
    }
   ],
   "source": [
    "duplicate_apps = []\n",
    "unique_apps = []\n",
    "def check_duplicates(dataset):\n",
    "    for count, row in enumerate(dataset[1:]):\n",
    "        app_name = row[0]\n",
    "        if app_name in unique_apps:\n",
    "            duplicate_apps.append(row)\n",
    "        else:\n",
    "            unique_apps.append(app_name)\n",
    "    return duplicate_apps, unique_apps\n",
    "\n",
    "dup_app, uniqs = check_duplicates(google_data)  \n",
    "print(\"number of duplicates of google dataset:\", len(dup_app))\n",
    "print(\"\\n\")\n",
    "print(\"examples of duplicate apps in google dataset:\", dup_app[1:10])\n",
    "number_of_duplicates = len(dup_app)\n",
    "    "
   ]
  },
  {
   "cell_type": "markdown",
   "metadata": {
    "variables": {
     "number_of_duplicates": "1181"
    }
   },
   "source": [
    "The number of duplicates in the Google dataset are {{number_of_duplicates}}\n",
    "\n",
    "The above samples, from the Google dataset, clearly show duplicate entries"
   ]
  },
  {
   "cell_type": "code",
   "execution_count": 143,
   "metadata": {},
   "outputs": [],
   "source": [
    "# extract the names of the duplicated apps\n",
    "app_names = []\n",
    "\n",
    "for row in dup_app:\n",
    "    name = row[0]\n",
    "    app_names.append(name)\n",
    "\n",
    "new_apps = sorted(app_names)\n",
    "\n",
    "    "
   ]
  },
  {
   "cell_type": "code",
   "execution_count": 144,
   "metadata": {},
   "outputs": [
    {
     "name": "stdout",
     "output_type": "stream",
     "text": [
      "{'10 Best Foods for You': 1,\n",
      " '1800 Contacts - Lens Store': 1,\n",
      " '2017 EMRA Antibiotic Guide': 1,\n",
      " '21-Day Meditation Experience': 1,\n",
      " '365Scores - Live Scores': 1,\n",
      " '420 BZ Budeze Delivery': 1,\n",
      " '8 Ball Pool': 6,\n",
      " '8fit Workouts & Meal Planner': 1,\n",
      " '95Live -SG#1 Live Streaming App': 1,\n",
      " 'A Manual of Acupuncture': 1,\n",
      " 'A&E - Watch Full Episodes of TV Shows': 3,\n",
      " 'AAFP': 1,\n",
      " 'ABC News - US & World News': 1,\n",
      " 'AC - Tips & News for Androidâ\\x84¢': 1,\n",
      " 'AP Mobile - Breaking News': 1,\n",
      " 'ASCCP Mobile': 1,\n",
      " 'ASOS': 1,\n",
      " 'Accounting App - Zoho Books': 1,\n",
      " 'AccuWeather: Daily Forecast & Live Weather Reports': 1,\n",
      " 'Acorns - Invest Spare Change': 1,\n",
      " 'AdWords Express': 1,\n",
      " 'Ada - Your Health Guide': 1,\n",
      " 'Adobe Acrobat Reader': 2,\n",
      " 'Adobe Photoshop Express:Photo Editor Collage Maker': 1,\n",
      " 'Adult Dirty Emojis': 2,\n",
      " 'Advanced Comprehension Therapy': 1,\n",
      " 'Agar.io': 1,\n",
      " 'Airbnb': 1,\n",
      " 'Airway Ex - Intubate. Anesthetize. Train.': 1,\n",
      " 'AliExpress - Smarter Shopping, Better Living': 3,\n",
      " 'All Football - Latest News & Videos': 1,\n",
      " 'All Mental disorders': 1,\n",
      " 'All Social Networks': 1,\n",
      " \"Alto's Adventure\": 1,\n",
      " 'Amazon Kindle': 1,\n",
      " 'Amazon Shopping': 2,\n",
      " 'Amazon for Tablets': 1,\n",
      " 'American Airlines': 2,\n",
      " 'Amino: Communities and Chats': 1,\n",
      " 'AnatomyMapp': 1,\n",
      " 'Android Messages': 1,\n",
      " 'Anger of stick 5 : zombie': 1,\n",
      " 'Angry Birds 2': 1,\n",
      " 'Angry Birds Classic': 4,\n",
      " 'Angry Birds Rio': 3,\n",
      " 'Animal Jam - Play Wild!': 1,\n",
      " 'Anthem Anywhere': 1,\n",
      " 'Anthem BC Anywhere': 1,\n",
      " 'Any.do: To-do list, Calendar, Reminders & Planner': 2,\n",
      " 'Apartment List: Housing, Apt, and Property Rentals': 1,\n",
      " 'Apartments & Rentals - Zillow': 1,\n",
      " 'Apartments.com Rental Search': 1,\n",
      " 'Apex Launcher': 2,\n",
      " 'Asana: organize team projects': 1,\n",
      " 'Avokiddo Emotions': 1,\n",
      " 'B612 - Beauty & Filter Camera': 2,\n",
      " 'BBC News': 2,\n",
      " 'BBC Sport': 1,\n",
      " 'BBM - Free Calls & Messages': 1,\n",
      " 'BBW Dating & Curvy Singles Chat- LargeFriends': 1,\n",
      " 'BBW Dating & Plus Size Chat': 2,\n",
      " 'BET NOW - Watch Shows': 2,\n",
      " 'BP Journal - Blood Pressure Diary': 1,\n",
      " 'BZWBK24 mobile': 1,\n",
      " 'Babbel â\\x80\\x93 Learn Languages': 3,\n",
      " 'Baby Panda Care': 1,\n",
      " 'Backgrounds HD (Wallpapers)': 1,\n",
      " 'Badoo - Free Chat & Dating App': 3,\n",
      " 'Banfield Pet Health Tracker': 1,\n",
      " 'Barbieâ\\x84¢ Fashion Closet': 1,\n",
      " 'Beautiful Widgets Free': 1,\n",
      " 'Beautiful Widgets Pro': 1,\n",
      " 'BeautyPlus - Easy Photo Editor & Selfie Camera': 4,\n",
      " 'Best Fiends - Free Puzzle Game': 1,\n",
      " 'BeyondMenu Food Delivery': 1,\n",
      " 'Bita and the Animals - Pelos Ares': 1,\n",
      " 'Black People Meet Singles Date': 1,\n",
      " 'Black White Interracial Dating - Interracial Match': 1,\n",
      " 'Bleacher Report: sports news, scores, & highlights': 5,\n",
      " 'Blendr - Chat, Flirt & Meet': 1,\n",
      " 'Block Buddy': 1,\n",
      " 'Block Craft 3D: Building Simulator Games For Free': 2,\n",
      " 'Block Puzzle': 3,\n",
      " 'Block Puzzle Classic Legend !': 1,\n",
      " 'Blood Pressure': 2,\n",
      " 'Blood Pressure Companion': 1,\n",
      " 'Blood Pressure Log - MyDiary': 1,\n",
      " 'Blood Pressure Monitor': 1,\n",
      " 'Blood Pressure(BP) Diary': 1,\n",
      " 'Blur Image Background': 1,\n",
      " 'Booking.com Travel Deals': 2,\n",
      " 'Bowmasters': 5,\n",
      " 'Box': 2,\n",
      " 'Breastfeeding Tracker Baby Log': 1,\n",
      " 'Brilliant': 1,\n",
      " 'Brit + Co': 1,\n",
      " 'British Airways': 1,\n",
      " 'Bubble Shooter': 5,\n",
      " 'Bubble Shooter 2': 1,\n",
      " 'BuzzFeed: News, Tasty, Quizzes': 1,\n",
      " 'C Programming': 1,\n",
      " 'CBS - Full Episodes & Live TV': 1,\n",
      " 'CBS Sports App - Scores, News, Stats & Watch Live': 7,\n",
      " 'CBS Sports Fantasy': 1,\n",
      " 'CJmall': 1,\n",
      " 'CM Browser - Ad Blocker , Fast Download , Privacy': 1,\n",
      " 'CM FILE MANAGER HD': 1,\n",
      " 'CM Flashlight (Compass, SOS)': 1,\n",
      " 'CM Launcher 3D - Theme, Wallpapers, Efficient': 1,\n",
      " 'CM Locker - Security Lockscreen': 1,\n",
      " 'CMB Free Dating App': 1,\n",
      " 'CNBC: Breaking Business News & Live Market Data': 1,\n",
      " 'CNN Breaking US & World News': 2,\n",
      " \"COOKING MAMA Let's Cook!\": 1,\n",
      " 'CT Scan Cross Sectional Anatomy': 1,\n",
      " 'CW Seed': 1,\n",
      " 'Cache Cleaner-DU Speed Booster (booster & cleaner)': 1,\n",
      " 'Calculator': 1,\n",
      " 'Call Blocker': 1,\n",
      " 'CallApp: Caller ID, Blocker & Phone Call Recorder': 1,\n",
      " 'Calls & Text by Mo+': 1,\n",
      " 'Calm - Meditate, Sleep, Relax': 1,\n",
      " 'Calorie Counter & Diet Tracker': 1,\n",
      " 'Calorie Counter - Macros': 1,\n",
      " 'Calorie Counter - MyFitnessPal': 4,\n",
      " 'Calorie Counter - MyNetDiary': 1,\n",
      " 'Calorie Counter by FatSecret': 1,\n",
      " 'Camera FV-5': 1,\n",
      " 'Camera FV-5 Lite': 1,\n",
      " 'Camera MX - Free Photo & Video Camera': 1,\n",
      " 'Camera for Android': 2,\n",
      " 'Camera360 Lite - Selfie Camera': 1,\n",
      " 'Camera360: Selfie Photo Editor with Funny Sticker': 2,\n",
      " 'Candy Bomb': 1,\n",
      " 'Candy Camera - selfie, beauty camera, photo editor': 2,\n",
      " 'Candy Crush Jelly Saga': 1,\n",
      " 'Candy Crush Saga': 6,\n",
      " 'Candy Crush Soda Saga': 2,\n",
      " 'Capital OneÂ® Mobile': 1,\n",
      " 'Cardboard': 1,\n",
      " 'Cardi B Live Stream Video Chat - Prank': 1,\n",
      " 'Cardiac diagnosis (heart rate, arrhythmia)': 2,\n",
      " 'Carousell: Snap-Sell, Chat-Buy': 1,\n",
      " 'Cartoon Network App': 1,\n",
      " 'Castle Clash: Heroes of the Empire US': 1,\n",
      " 'Casual Dating & Adult Singles - Joyride': 1,\n",
      " 'Chat Kids - Chat Room For Kids': 1,\n",
      " 'Chat Rooms, Avatars, Date - Galaxy': 1,\n",
      " 'Cheapflights â\\x80\\x93 Flight Search': 1,\n",
      " 'Checkout 51: Grocery coupons': 2,\n",
      " 'Chess Free': 1,\n",
      " 'Chick-fil-A': 2,\n",
      " 'Chictopia': 1,\n",
      " 'Chispa, the Dating App for Latino, Latina Singles': 1,\n",
      " 'Choices: Stories You Play': 1,\n",
      " 'Christian Dating For Free App': 1,\n",
      " 'Chrome Beta': 1,\n",
      " 'Chrome Dev': 1,\n",
      " 'Clash Royale': 3,\n",
      " 'Clash of Clans': 3,\n",
      " 'ClassDojo': 2,\n",
      " 'Clover Dating App': 1,\n",
      " 'Color by Number â\\x80\\x93 New Coloring Book': 1,\n",
      " 'ColorNote Notepad Notes': 1,\n",
      " 'Colorfy: Coloring Book for Adults - Free': 1,\n",
      " 'Coloring book moana': 1,\n",
      " 'Comedy Central': 1,\n",
      " 'Cooking Fever': 1,\n",
      " 'Cougar Dating Life : Date Older Women Sugar Mummy': 1,\n",
      " 'Couple - Relationship App': 1,\n",
      " 'Coursera: Online courses': 1,\n",
      " 'CppDroid - C/C++ IDE': 1,\n",
      " 'Crackle - Free TV & Movies': 2,\n",
      " 'Credit Karma': 2,\n",
      " 'Crew - Free Messaging and Scheduling': 1,\n",
      " 'Cricbuzz - Live Cricket Scores & News': 1,\n",
      " 'Crossy Road': 1,\n",
      " 'Crunchyroll - Everything Anime': 2,\n",
      " 'Curriculum vitae App CV Builder Free Resume Maker': 1,\n",
      " 'Cut the Rope FULL FREE': 2,\n",
      " 'Cymera Camera- Photo Editor, Filter,Collage,Layout': 3,\n",
      " 'DC Comics': 1,\n",
      " 'DC Super Hero Girlsâ\\x84¢': 3,\n",
      " 'DEAD TARGET: FPS Zombie Apocalypse Survival Games': 1,\n",
      " 'DEER HUNTER 2018': 1,\n",
      " 'DINO HUNTER: DEADLY SHORES': 1,\n",
      " 'DRAGON BALL LEGENDS': 3,\n",
      " 'DU Browserâ\\x80\\x94Browse fast & fun': 1,\n",
      " 'Daily Manga - Comic & Webtoon': 1,\n",
      " 'Daily Yoga - Yoga Fitness Plans': 2,\n",
      " 'Dairy Queen': 1,\n",
      " 'Dating App, Flirt & Chat : W-Match': 1,\n",
      " 'Dating for 50 plus Mature Singles â\\x80\\x93 FINALLY': 1,\n",
      " 'Diabetes & Diet Tracker': 1,\n",
      " 'Diabetes:M': 1,\n",
      " 'Diary with lock': 1,\n",
      " 'Dictionary - Merriam-Webster': 1,\n",
      " 'Digit Save Money Automatically': 1,\n",
      " 'Disney Magic Kingdoms: Build Your Own Magical Park': 1,\n",
      " 'DisneyNOW â\\x80\\x93 TV Shows & Games': 2,\n",
      " 'Do It Later: Tasks & To-Dos': 1,\n",
      " 'Docs To Goâ\\x84¢ Free Office Suite': 1,\n",
      " 'Dog Run - Pet Dog Simulator': 2,\n",
      " \"Domino's Pizza USA\": 1,\n",
      " \"Dr. Panda & Toto's Treehouse\": 2,\n",
      " 'Dream League Soccer 2018': 2,\n",
      " 'DreamWorks Friends': 1,\n",
      " 'Dropbox': 2,\n",
      " 'Dude Perfect 2': 1,\n",
      " 'Dungeon Hunter Champions: Epic Online Action RPG': 1,\n",
      " \"Dunkin' Donuts\": 1,\n",
      " 'Duolingo: Learn Languages Free': 6,\n",
      " 'E*TRADE Mobile': 1,\n",
      " 'EMT PASS': 1,\n",
      " 'EMT Review Plus': 1,\n",
      " 'EMT Tutor NREMT-B Study Guide': 1,\n",
      " 'EMT-B Pocket Prep': 1,\n",
      " 'ES File Explorer File Manager': 2,\n",
      " 'ESPN': 6,\n",
      " 'ESPN Fantasy Sports': 3,\n",
      " 'Earn to Die 2': 1,\n",
      " 'Ebook Reader': 1,\n",
      " 'Edmodo': 1,\n",
      " 'EliteSingles â\\x80\\x93 Dating for Single Professionals': 1,\n",
      " 'Elmo Calls by Sesame Street': 2,\n",
      " 'Endomondo - Running & Walking': 1,\n",
      " 'English Dictionary - Offline': 1,\n",
      " 'English Grammar Test': 1,\n",
      " 'Episode - Choose Your Story': 1,\n",
      " 'Equestria Girls': 2,\n",
      " 'Essential Anatomy 3': 1,\n",
      " 'Etsy: Handmade & Vintage Goods': 1,\n",
      " 'Evernote â\\x80\\x93 Organizer, Planner for Notes & Memos': 3,\n",
      " 'Expedia Hotels, Flights & Car Rental Travel Deals': 3,\n",
      " 'Extreme Coupon Finder': 2,\n",
      " 'FIFA - Tournaments, Soccer News & Live Scores': 1,\n",
      " 'FOX': 1,\n",
      " 'FOX NOW - On Demand & Live TV': 2,\n",
      " 'FOX Sports: Live Streaming, Scores & News': 1,\n",
      " 'FP Notebook': 1,\n",
      " 'Fabulous: Motivate Me! Meditate, Relax, Sleep': 1,\n",
      " 'Face Filter, Selfie Editor - Sweet Camera': 1,\n",
      " 'Facebook': 1,\n",
      " 'Facebook Ads Manager': 1,\n",
      " 'Facebook Lite': 1,\n",
      " 'Facebook Pages Manager': 1,\n",
      " 'Facetune - For Free': 2,\n",
      " 'Fallout Shelter': 1,\n",
      " 'Fancy': 2,\n",
      " 'Fandango Movies - Times + Tickets': 1,\n",
      " 'Fantasy Football': 1,\n",
      " 'Farm Heroes Saga': 4,\n",
      " 'FarmersOnly Dating': 1,\n",
      " 'Farming Simulator 14': 1,\n",
      " 'Fashion in Vogue': 2,\n",
      " 'Fast Scanner : Free PDF Scan': 1,\n",
      " 'FastMeet: Chat, Dating, Love': 1,\n",
      " 'FilterGrid - Cam&Photo Editor': 1,\n",
      " 'Final Fantasy XV: A New Empire': 1,\n",
      " 'Find Real Love â\\x80\\x94 YouLove Premium Dating': 1,\n",
      " 'Firefox Browser fast & private': 2,\n",
      " 'Firefox Focus: The privacy browser': 2,\n",
      " 'Fishdom': 2,\n",
      " 'Fitbit Coach': 1,\n",
      " 'Flashlight': 1,\n",
      " 'Flickr': 1,\n",
      " 'Flipboard: News For Our Time': 2,\n",
      " 'Flipkart Online Shopping App': 1,\n",
      " 'Flipp - Weekly Shopping': 1,\n",
      " 'FlirtChat - â\\x99¥Free Dating/Flirting Appâ\\x99¥': 1,\n",
      " 'Flow Free': 4,\n",
      " 'Fly Delta': 1,\n",
      " 'Food Calorie Calculator': 1,\n",
      " 'Food Network': 2,\n",
      " 'FotMob - Live Soccer Scores': 1,\n",
      " 'Fox News â\\x80\\x93 Breaking News, Live Video & News Alerts': 2,\n",
      " 'Free Blood Pressure': 2,\n",
      " 'Free Cam Girls - Live Webcam': 1,\n",
      " 'Free Dating & Flirt Chat - Choice of Love': 1,\n",
      " 'Free Dating App - Meet Local Singles - Flirt Chat': 1,\n",
      " 'Free Dating App - YoCutie - Flirt, Chat & Meet': 1,\n",
      " 'Free Dating Hook Up Messenger': 1,\n",
      " 'Free phone calls, free texting SMS on free number': 1,\n",
      " 'FreshBooks Classic': 1,\n",
      " 'Frozen Free Fall': 2,\n",
      " 'Fruits Bomb': 1,\n",
      " 'Fun Kid Racing - Motocross': 1,\n",
      " 'Fuzzy Numbers: Pre-K Number Foundation': 1,\n",
      " 'G Cloud Backup': 1,\n",
      " 'GO Keyboard - Emoticon keyboard, Free Theme, GIF': 1,\n",
      " 'Galaxy Attack: Alien Shooter': 2,\n",
      " \"Game for KIDS: KIDS match'em\": 1,\n",
      " 'Gardenscapes': 1,\n",
      " 'Garena Free Fire': 3,\n",
      " 'Gay Sugar Daddy Dating & Hookup â\\x80\\x93 Sudy Gay': 1,\n",
      " 'Gboard - the Google Keyboard': 2,\n",
      " 'Genius Scan - PDF Scanner': 1,\n",
      " 'Geometry Dash World': 1,\n",
      " 'Girls Live Chat - Free Text & Video Chat': 1,\n",
      " 'Glide - Video Chat Messenger': 1,\n",
      " 'Gmail': 2,\n",
      " 'Golfshot: Golf GPS + Tee Times': 1,\n",
      " 'Google': 1,\n",
      " 'Google Ads': 2,\n",
      " 'Google Allo': 2,\n",
      " 'Google Analytics': 1,\n",
      " 'Google Calendar': 2,\n",
      " 'Google Chrome: Fast & Secure': 2,\n",
      " 'Google Classroom': 2,\n",
      " 'Google Docs': 2,\n",
      " 'Google Drive': 3,\n",
      " 'Google Duo - High Quality Video Calls': 1,\n",
      " 'Google Earth': 1,\n",
      " 'Google Keep': 3,\n",
      " 'Google My Business': 2,\n",
      " 'Google News': 3,\n",
      " 'Google PDF Viewer': 2,\n",
      " 'Google Pay': 3,\n",
      " 'Google Photos': 3,\n",
      " 'Google Play Games': 1,\n",
      " 'Google Sheets': 1,\n",
      " 'Google Street View': 1,\n",
      " 'Google Translate': 1,\n",
      " 'Google Voice': 2,\n",
      " 'Google+': 1,\n",
      " 'Granny': 4,\n",
      " 'Groupon - Shop Deals, Discounts & Coupons': 3,\n",
      " 'Grubhub: Food Delivery': 1,\n",
      " 'Gyft - Mobile Gift Card Wallet': 2,\n",
      " 'H TV': 1,\n",
      " 'H&M': 1,\n",
      " 'HBO GO: Stream with TV Package': 1,\n",
      " 'HBO NOW: Stream TV & Movies': 3,\n",
      " 'HD Camera for Android': 1,\n",
      " 'HD Widgets': 1,\n",
      " 'HISTORY: Watch TV Show Full Episodes & Specials': 2,\n",
      " 'Hangouts': 3,\n",
      " 'Hangouts Dialer - Call Phones': 1,\n",
      " 'Harry Potter: Hogwarts Mystery': 1,\n",
      " 'Haystack TV: Local & World News - Free': 1,\n",
      " 'Headspace: Meditation & Mindfulness': 1,\n",
      " 'Health and Nutrition Guide': 1,\n",
      " 'Helix Jump': 5,\n",
      " 'Hello Kitty Nail Salon': 1,\n",
      " 'HelloTalk â\\x80\\x94 Chat, Speak & Learn Foreign Languages': 1,\n",
      " 'Hide App, Private Dating, Safe Chat - PrivacyHider': 1,\n",
      " 'High Blood Pressure Symptoms': 1,\n",
      " 'Hill Climb Racing': 3,\n",
      " 'Hill Climb Racing 2': 1,\n",
      " 'Hily: Dating, Chat, Match, Meet & Hook up': 2,\n",
      " 'Hinge: Dating & Relationships': 1,\n",
      " 'HipChat - Chat Built for Teams': 1,\n",
      " 'Hole19: Golf GPS App, Rangefinder & Scorecard': 1,\n",
      " 'Home Security Camera WardenCam - reuse old phones': 1,\n",
      " 'Home Workout - No Equipment': 1,\n",
      " 'Homescapes': 1,\n",
      " 'Honkai Impact 3rd': 1,\n",
      " 'Hopper - Watch & Book Flights': 1,\n",
      " 'Hospitalist Handbook': 1,\n",
      " 'Hostelworld: Hostels & Cheap Hotels Travel App': 1,\n",
      " 'Hot Wheels: Race Off': 1,\n",
      " 'Hot or Not - Find someone right now': 2,\n",
      " 'HotelTonight: Book amazing deals at great hotels': 2,\n",
      " 'Hotels.com: Book Hotel Rooms & Find Vacation Deals': 1,\n",
      " 'Houzz Interior Design Ideas': 3,\n",
      " 'Howlr': 1,\n",
      " 'Hulu: Stream TV, Movies & more': 3,\n",
      " 'Human Anatomy Atlas 2018: Complete 3D Human Body': 2,\n",
      " 'Hungry Shark Evolution': 2,\n",
      " 'Hungry Shark World': 1,\n",
      " 'IBM Micromedex Drug Info': 1,\n",
      " 'IMDb Movies & TV': 2,\n",
      " 'Ibotta: Cash Back Savings, Rewards & Coupons App': 1,\n",
      " 'Idle Heroes': 1,\n",
      " 'Inside Out Thought Bubbles': 1,\n",
      " 'Insightly CRM': 1,\n",
      " 'InstaBeauty -Makeup Selfie Cam': 1,\n",
      " 'InstaSize Photo Filters & Collage Editor': 1,\n",
      " 'Instagram': 3,\n",
      " 'Invoice & Time Tracking - Zoho': 1,\n",
      " 'Invoice 2go â\\x80\\x94 Professional Invoices and Estimates': 1,\n",
      " 'Iâ\\x80\\x99m Expecting - Pregnancy App': 1,\n",
      " 'JH Blood Pressure Monitor': 1,\n",
      " 'JOANN - Crafts & Coupons': 1,\n",
      " \"JackThreads: Men's Shopping\": 2,\n",
      " 'Jaumo Dating, Flirt & Live Video': 1,\n",
      " 'Jetpack Joyride': 1,\n",
      " 'Jewels Star: OZ adventure': 1,\n",
      " 'Journal Club: Medicine': 1,\n",
      " 'Jurassic Worldâ\\x84¢ Alive': 1,\n",
      " 'Just She - Top Lesbian Dating': 2,\n",
      " 'K PLUS': 1,\n",
      " 'KAYAK Flights, Hotels & Cars': 2,\n",
      " 'KakaoTalk: Free Calls & Text': 2,\n",
      " 'Khan Academy': 2,\n",
      " 'Kick the Buddy': 3,\n",
      " 'Kids Balloon Pop Game Free ð\\x9f\\x8e\\x88': 1,\n",
      " 'Knife Hit': 1,\n",
      " 'LEGOÂ® Juniors Create & Cruise': 1,\n",
      " 'LEGOÂ® TV': 1,\n",
      " 'LINE Camera - Photo editor': 1,\n",
      " 'LINE WEBTOON - Free Comics': 1,\n",
      " 'LINE: Free Calls & Messages': 2,\n",
      " 'LOVOO': 1,\n",
      " 'Lark - 24/7 Health Coach': 1,\n",
      " 'Last Day on Earth: Survival': 1,\n",
      " 'Learn 50 languages': 1,\n",
      " 'Learn C++': 1,\n",
      " 'Learn English with Wlingua': 1,\n",
      " 'Learn languages, grammar & vocabulary with Memrise': 3,\n",
      " 'Lifetime - Watch Full Episodes & Original Movies': 2,\n",
      " 'LinkedIn': 1,\n",
      " 'Live Girls Talk - Free Video Chat': 1,\n",
      " 'Live Talk - Free Text and Video Chat': 1,\n",
      " 'LiveMe - Video chat, new friends, and make money': 1,\n",
      " 'LivingSocial - Local Deals': 2,\n",
      " 'Lose It! - Calorie Counter': 2,\n",
      " 'Love Balls': 1,\n",
      " 'Lumosity: #1 Brain Games & Cognitive Training App': 1,\n",
      " 'Lynda - Online Training Videos': 1,\n",
      " 'MARVEL Contest of Champions': 1,\n",
      " 'MARVEL Strike Force': 2,\n",
      " 'MEGA': 1,\n",
      " 'MLB At Bat': 4,\n",
      " 'MLB Ballpark': 1,\n",
      " 'MTV': 1,\n",
      " 'MX Player': 2,\n",
      " 'Magic Tiles 3': 3,\n",
      " 'MailChimp - Email, Marketing Automation': 1,\n",
      " 'Manga AZ - Manga Comic Reader': 1,\n",
      " 'Mango Languages: Lovable Language Courses': 1,\n",
      " 'Maps & GPS Navigation â\\x80\\x94 OsmAnd': 1,\n",
      " 'Maps - Navigate & Explore': 2,\n",
      " 'Mapy.cz - Cycling & Hiking offline maps': 1,\n",
      " 'Maricopa AH': 1,\n",
      " 'Masha and the Bear Child Games': 1,\n",
      " \"McDonald's\": 1,\n",
      " 'Mcqueen Coloring pages': 1,\n",
      " 'MealLogger-Photo Food Journal': 1,\n",
      " 'Medical ID - In Case of Emergency (ICE)': 1,\n",
      " 'Meditation Music - Relax, Yoga': 1,\n",
      " 'Meet24 - Love, Chat, Singles': 1,\n",
      " 'Meet4U - Chat, Love, Singles!': 1,\n",
      " 'MeetMe: Chat & Meet New People': 4,\n",
      " 'Meetup': 3,\n",
      " 'Merge Dragons!': 1,\n",
      " 'Messages, Text and Video Chat for Messenger': 1,\n",
      " 'Messenger Lite: Free Calls & Messages': 1,\n",
      " 'Messenger â\\x80\\x93 Text and Video Chat for Free': 2,\n",
      " 'Metal Soldiers 2': 1,\n",
      " 'Microsoft Edge': 1,\n",
      " 'Microsoft Excel': 1,\n",
      " 'Microsoft OneDrive': 1,\n",
      " 'Microsoft OneNote': 2,\n",
      " 'Microsoft Outlook': 1,\n",
      " 'Microsoft PowerPoint': 1,\n",
      " 'Microsoft Word': 2,\n",
      " 'Millionaire Match: Rich Singles Dating App': 1,\n",
      " 'Minecraft': 1,\n",
      " 'Minion Rush: Despicable Me Official Game': 3,\n",
      " 'Mint: Budget, Bills, Finance': 2,\n",
      " 'Miraculous Ladybug & Cat Noir - The Official Game': 2,\n",
      " 'Mobi Calculator free & AD free!': 1,\n",
      " 'Mobile Doc Scanner (MDScan) Lite': 1,\n",
      " 'Moco - Chat, Meet People': 2,\n",
      " 'Moco+ - Chat, Meet People': 1,\n",
      " \"Modcloth â\\x80\\x93 Unique Indie Women's Fashion & Style\": 1,\n",
      " 'Monash Uni Low FODMAP Diet': 1,\n",
      " 'Money Lover: Expense Tracker, Budget Planner': 1,\n",
      " 'Moneycontrol â\\x80\\x93 Stocks, Sensex, Mutual Funds, IPO': 1,\n",
      " 'Monster Highâ\\x84¢': 1,\n",
      " 'Monster Truck Driver & Racing': 1,\n",
      " 'MoodSpace': 1,\n",
      " 'Moovit: Bus Time & Train Time Live Info': 1,\n",
      " 'Mortgage by Zillow: Calculator & Rates': 1,\n",
      " 'Moto File Manager': 1,\n",
      " 'Motorola FM Radio': 1,\n",
      " 'MouseMingle': 1,\n",
      " 'Movies by Flixster, with Rotten Tomatoes': 2,\n",
      " 'Muscle Premium - Human Anatomy, Kinesiology, Bones': 1,\n",
      " 'Muzy - Share photos & collages': 1,\n",
      " 'My Class Schedule: Timetable': 1,\n",
      " 'My Diet Diary Calorie Counter': 1,\n",
      " 'My Dressing - Fashion closet': 1,\n",
      " 'My Little Pony Celebration': 1,\n",
      " 'My Little Pony: Harmony Quest': 1,\n",
      " 'My Photo Keyboard': 1,\n",
      " 'My Talking Angela': 3,\n",
      " 'My Talking Tom': 2,\n",
      " 'MyPlate Calorie Tracker': 1,\n",
      " 'NBC News': 1,\n",
      " 'NFL': 2,\n",
      " 'NOOK App for NOOK Devices': 1,\n",
      " 'NOOK: Read eBooks & Magazines': 1,\n",
      " 'NPR News': 1,\n",
      " 'NYTimes - Latest News': 2,\n",
      " 'Netflix': 4,\n",
      " 'Newegg Mobile': 1,\n",
      " 'Newsroom: News Worth Sharing': 1,\n",
      " 'Nextdoor - Local neighborhood news & classifieds': 1,\n",
      " 'Nick': 5,\n",
      " 'Nighty Night Circus': 1,\n",
      " 'Nike Training Club - Workouts & Fitness Plans': 2,\n",
      " 'Nike+ Run Club': 3,\n",
      " 'No Crop & Square for Instagram': 1,\n",
      " 'No.Draw - Colors by Number 2018': 1,\n",
      " 'Notepad & To do list': 1,\n",
      " 'Nova Launcher': 1,\n",
      " 'Nurse Grid': 1,\n",
      " 'O-Star': 2,\n",
      " 'OfficeSuite : Free Office + PDF Editor': 1,\n",
      " 'Offline Maps & Navigation': 1,\n",
      " 'OkCupid Dating': 2,\n",
      " 'Once - Quality Matches Every day': 1,\n",
      " 'Open Camera': 2,\n",
      " 'Opera Browser: Fast and Secure': 2,\n",
      " 'Opera Mini - fast web browser': 2,\n",
      " 'Orbitz - Hotels, Flights & Package Deals': 1,\n",
      " 'Overstock â\\x80\\x93 Home Decor, Furniture Shopping': 1,\n",
      " 'Ovia Fertility Tracker & Ovulation Calculator': 1,\n",
      " 'Oxford Dictionary of English : Free': 1,\n",
      " 'PAC-MAN': 1,\n",
      " 'PBS KIDS Video': 1,\n",
      " 'PGA TOUR': 1,\n",
      " 'PJ Masks: Moonlight Heroes': 2,\n",
      " 'PMHNP-BC Pocket Prep': 1,\n",
      " 'POF Free Dating App': 2,\n",
      " 'PTA Content Master': 1,\n",
      " 'PUBG MOBILE': 3,\n",
      " 'Panera Bread': 1,\n",
      " 'Papumba Academy - Fun Learning For Kids': 2,\n",
      " 'Paramedic Protocol Provider': 1,\n",
      " 'PayPal': 1,\n",
      " 'Peak â\\x80\\x93 Brain Games & Training': 1,\n",
      " 'Pedi STAT': 1,\n",
      " 'Penn State Health OnDemand': 1,\n",
      " 'Period Tracker': 1,\n",
      " 'Periscope - Live Video': 2,\n",
      " 'Phogy, 3D Camera': 1,\n",
      " 'Phone Tracker : Family Locator': 1,\n",
      " 'Photo Editor': 1,\n",
      " 'Photo Editor Pro': 1,\n",
      " 'Photo Editor Selfie Camera Filter & Mirror Image': 1,\n",
      " 'Photo Editor by Aviary': 1,\n",
      " 'Photo Editor-': 1,\n",
      " 'PicsArt Photo Studio: Collage Maker & Pic Editor': 1,\n",
      " 'Pinterest': 2,\n",
      " 'Pixel Art: Color by Number Game': 2,\n",
      " 'Planner Pro-Personal Organizer': 1,\n",
      " 'Plants vs. Zombies FREE': 4,\n",
      " 'Plants vs. Zombiesâ\\x84¢ Heroes': 1,\n",
      " 'PlayKids - Educational cartoons and games for kids': 1,\n",
      " 'Pocket Yoga': 1,\n",
      " 'Podcast App: Free & Offline Podcasts by Player FM': 1,\n",
      " 'PokÃ©mon GO': 1,\n",
      " 'Polaris Office - Word, Docs, Sheets, Slide, PDF': 1,\n",
      " 'Poshmark - Buy & Sell Fashion': 1,\n",
      " 'Postmates Food Delivery: Order Eats & Alcohol': 1,\n",
      " 'Pou': 3,\n",
      " 'PowerDirector Video Editor App: 4K, Slow Mo & More': 1,\n",
      " 'Premier League - Official App': 1,\n",
      " 'Priceline Hotel Deals, Rental Cars & Flights': 2,\n",
      " 'Princess Coloring Book': 1,\n",
      " 'Puffin Web Browser': 2,\n",
      " 'QR Scanner & Barcode Scanner 2018': 1,\n",
      " 'Quick PDF Scanner + OCR FREE': 2,\n",
      " 'QuickBooks Accounting: Invoicing & Expenses': 2,\n",
      " 'QuickPic - Photo Gallery with Google Drive Support': 2,\n",
      " 'Quizlet: Learn Languages & Vocab with Flashcards': 3,\n",
      " 'Quora': 1,\n",
      " 'ROBLOX': 8,\n",
      " 'RT 516 VET': 1,\n",
      " 'RULES OF SURVIVAL': 1,\n",
      " 'Racing in Car 2': 1,\n",
      " 'Random Video Chat': 1,\n",
      " 'Random Video Chat App With Strangers': 1,\n",
      " 'Real Racing 3': 1,\n",
      " 'Realtor.com Real Estate: Homes for Sale and Rent': 1,\n",
      " 'Red Bull TV: Live Sports, Music & Entertainment': 1,\n",
      " 'Redfin Real Estate': 1,\n",
      " 'Relax Meditation: Sleep with Sleep Sounds': 1,\n",
      " 'Relax Melodies: Sleep Sounds': 1,\n",
      " 'RetailMeNot - Coupons, Deals & Discount Shopping': 2,\n",
      " 'Reuters News': 1,\n",
      " 'Rider': 1,\n",
      " 'Ringtone Maker': 1,\n",
      " 'Robinhood - Investing, No Fees': 1,\n",
      " 'Rosetta Stone: Learn to Speak & Read New Languages': 3,\n",
      " 'Ruler': 1,\n",
      " 'Run Sausage Run!': 1,\n",
      " 'Run with Map My Run': 2,\n",
      " 'Runkeeper - GPS Track Run Walk': 1,\n",
      " 'Runtastic Running App & Mile Tracker': 2,\n",
      " 'Runtastic Sleep Better: Sleep Cycle & Smart Alarm': 1,\n",
      " 'SHAREit - Transfer & Share': 1,\n",
      " 'SHOWTIME': 1,\n",
      " 'SKOUT - Meet, Chat, Go Live': 1,\n",
      " 'SONIC Drive-In': 1,\n",
      " 'STARZ': 2,\n",
      " 'SUBWAYÂ®': 1,\n",
      " 'Sago Mini Babies': 1,\n",
      " 'Sago Mini Friends': 2,\n",
      " 'SayHi Chat, Meet New People': 2,\n",
      " 'Scarf Fashion Designer': 1,\n",
      " 'School of Dragons': 1,\n",
      " 'Score! Hero': 2,\n",
      " 'ScriptSave WellRx Rx Discounts': 1,\n",
      " 'Seven - 7 Minute Workout Training Challenge': 1,\n",
      " 'Shadow Fight 2': 1,\n",
      " 'Share Music & Transfer Files - Xender': 1,\n",
      " 'Shopkick: Free Gift Cards, Shop Rewards & Deals': 1,\n",
      " 'Shopkins World!': 1,\n",
      " 'Shopular: Coupons, Weekly Ads & Shopping Deals': 1,\n",
      " 'Showtime Anytime': 1,\n",
      " 'Shutterfly: Free Prints, Photo Books, Cards, Gifts': 3,\n",
      " 'SignEasy | Sign and Fill PDF and other Documents': 1,\n",
      " 'Simple - Better Banking': 1,\n",
      " 'Simple Habit Meditation': 1,\n",
      " 'Six Pack in 30 Days - Abs Workout': 1,\n",
      " 'Skype - free IM & video calls': 2,\n",
      " 'Skyscanner': 4,\n",
      " 'Slack': 2,\n",
      " 'Slickdeals: Coupons & Shopping': 2,\n",
      " 'Smart Launcher 5': 1,\n",
      " 'Snapchat': 3,\n",
      " 'SnipSnap Coupon App': 1,\n",
      " 'Sniper 3D Gun Shooter: Free Shooting Games - FPS': 5,\n",
      " 'Socratic - Math Answers & Homework Help': 1,\n",
      " 'Solitaire': 2,\n",
      " 'Sonic Dash': 1,\n",
      " 'Sounds for Toddlers FREE': 1,\n",
      " 'Southwest Airlines': 1,\n",
      " 'Spanish English Translator': 1,\n",
      " 'Starbucks': 1,\n",
      " 'Stocard - Rewards Cards Wallet': 1,\n",
      " 'Strawberry Shortcake BerryRush': 2,\n",
      " 'Strawberry Shortcake Ice Cream Island': 1,\n",
      " 'StyleSeat': 1,\n",
      " 'Subway Surfers': 5,\n",
      " 'Sudy â\\x80\\x93 Meet Elite & Rich Single': 1,\n",
      " 'Super ABC! Learning games for kids! Preschool apps': 1,\n",
      " 'Super Hearing Super Ear Amplifier': 1,\n",
      " 'Super Jim Jump - pixel 3d': 2,\n"
     ]
    },
    {
     "name": "stdout",
     "output_type": "stream",
     "text": [
      " 'Swamp Attack': 1,\n",
      " 'Sway Medical': 1,\n",
      " 'TED': 3,\n",
      " 'TO-FU Oh!SUSHI': 1,\n",
      " 'Tagged - Meet, Chat & Dating': 1,\n",
      " 'Talkatone: Free Texts, Calls & Phone Number': 1,\n",
      " 'Talking Ben the Dog': 1,\n",
      " 'Talking Tom Gold Run': 3,\n",
      " 'Talkray - Free Calls & Texts': 1,\n",
      " 'Tango - Live Video Broadcast': 1,\n",
      " 'Tapatalk - 100,000+ Forums': 1,\n",
      " 'Target - now with Cartwheel': 2,\n",
      " 'Tee and Mo Bath Time Free': 1,\n",
      " 'Teladoc Member': 1,\n",
      " 'Telegram': 2,\n",
      " 'Telegram X': 1,\n",
      " 'Telemundo Now': 1,\n",
      " 'Temple Run 2': 5,\n",
      " 'Text Free: WiFi Calling App': 2,\n",
      " 'Text free - Free Text + Call': 1,\n",
      " 'TextNow - free text + calls': 1,\n",
      " 'Textgram - write on photos': 1,\n",
      " 'The 5th Stand': 1,\n",
      " 'The CW': 3,\n",
      " 'The Coupons App': 3,\n",
      " 'The Emirates App': 1,\n",
      " 'The Game of Life': 1,\n",
      " 'The NBC App - Watch Live TV and Full Episodes': 1,\n",
      " 'The Simsâ\\x84¢ FreePlay': 1,\n",
      " 'The Wall Street Journal: Business & Market News': 1,\n",
      " 'Thomas & Friends: Race On!': 1,\n",
      " 'TickTick: To Do List with Reminder, Day Planner': 1,\n",
      " 'Tiny Scanner - PDF Scanner App': 1,\n",
      " 'Tiny Scanner Pro: PDF Doc Scan': 1,\n",
      " 'To-Do Calendar Planner': 1,\n",
      " 'Toca Kitchen 2': 2,\n",
      " 'Toca Life: City': 1,\n",
      " 'Todoist: To-do lists for task management & errands': 2,\n",
      " 'Toon Blast': 2,\n",
      " 'Topbuzz: Breaking News, Videos & Funny GIFs': 1,\n",
      " 'Toy Blast': 1,\n",
      " 'Traffic Racer': 1,\n",
      " 'Transenger â\\x80\\x93 Ts Dating and Chat for Free': 1,\n",
      " 'Transit: Real-Time Transit App': 1,\n",
      " 'TripAdvisor Hotels Flights Restaurants Attractions': 4,\n",
      " 'Truecaller: Caller ID, SMS spam blocking & Dialer': 1,\n",
      " 'Trulia Real Estate & Rentals': 1,\n",
      " 'Trulia Rent Apartments & Homes': 1,\n",
      " 'Tubi TV - Free Movies & TV': 2,\n",
      " 'Tumblr': 2,\n",
      " 'Turbo FAST': 1,\n",
      " 'TurboScan: scan documents and receipts in PDF': 1,\n",
      " 'Twitch: Livestream Multiplayer Games & Esports': 1,\n",
      " 'Twitter': 2,\n",
      " 'UC Browser - Fast Download Private & Secure': 2,\n",
      " 'UC Browser Mini -Tiny Fast Private & Secure': 2,\n",
      " 'UFC': 1,\n",
      " 'UNICORN - Color By Number & Pixel Art Coloring': 1,\n",
      " 'US Open Tennis Championships 2018': 1,\n",
      " 'USA TODAY': 2,\n",
      " 'Uber': 1,\n",
      " 'Udacity - Lifelong Learning': 1,\n",
      " 'Udemy - Online Courses': 2,\n",
      " 'United Airlines': 1,\n",
      " 'Univision NOW - Live TV and On Demand': 1,\n",
      " 'VH1': 2,\n",
      " 'VLC for Android': 1,\n",
      " 'VPN Free - Betternet Hotspot VPN & Private Browser': 1,\n",
      " 'Vaniday - Beauty Booking App': 1,\n",
      " 'Vargo Anesthesia Mega App': 1,\n",
      " 'Viber Messenger': 4,\n",
      " 'Video Downloader': 1,\n",
      " 'Video Editor': 2,\n",
      " 'Video Player All Format': 1,\n",
      " 'Vigo Video': 1,\n",
      " 'Viki: Asian TV Dramas & Movies': 2,\n",
      " 'WPS Office - Word, Docs, PDF, Note, Slide & Sheet': 1,\n",
      " 'WWE': 1,\n",
      " 'Walk with Map My Walk': 1,\n",
      " 'Walmart': 1,\n",
      " 'Wanelo Shopping': 1,\n",
      " 'WatchESPN': 3,\n",
      " 'Wattpad ð\\x9f\\x93\\x96 Free Books': 1,\n",
      " 'Waze - GPS, Maps, Traffic Alerts & Live Navigation': 1,\n",
      " 'We Heart It': 1,\n",
      " 'WeChat': 3,\n",
      " 'Weather by eltiempo.es': 1,\n",
      " 'Web Browser for Android': 1,\n",
      " 'Weight Loss Running by Verv': 2,\n",
      " 'Weight Loss Tracker - RecStyle': 1,\n",
      " 'Weight Watchers Mobile': 2,\n",
      " 'Wells Fargo Daily Change': 1,\n",
      " 'Wells Fargo Mobile': 1,\n",
      " 'Wendyâ\\x80\\x99s â\\x80\\x93 Food and Offers': 1,\n",
      " 'WhatsApp Business': 1,\n",
      " 'WhatsApp Messenger': 2,\n",
      " 'Wheretoget: Shop in style': 1,\n",
      " 'Who': 1,\n",
      " 'Who Viewed My Facebook Profile - Stalkers Visitors': 1,\n",
      " 'Whoscall - Caller ID & Block': 1,\n",
      " 'Wish - Shopping Made Fun': 4,\n",
      " 'Word Search': 3,\n",
      " 'Wordscapes': 3,\n",
      " 'Workout Trainer: fitness coach': 1,\n",
      " 'Wunderlist: To-Do List & Tasks': 2,\n",
      " 'Xero Accounting Software': 1,\n",
      " 'Yahoo Fantasy Sports - #1 Rated Fantasy App': 4,\n",
      " 'Yahoo Mail â\\x80\\x93 Stay Organized': 2,\n",
      " 'Yahoo Sports - scores, stats, news, & highlights': 2,\n",
      " 'Yandex Browser with Protect': 1,\n",
      " 'YouCam Makeup - Magic Selfie Makeovers': 1,\n",
      " 'YouCam Perfect - Selfie Photo Editor': 2,\n",
      " 'YouTube': 1,\n",
      " 'YouTube Gaming': 1,\n",
      " 'YouTube Kids': 3,\n",
      " 'YouTube Studio': 1,\n",
      " 'Youper - AI Therapy': 2,\n",
      " 'Z Camera - Photo Editor, Beauty Selfie, Collage': 1,\n",
      " 'ZALORA Fashion Shopping': 1,\n",
      " 'ZEDGEâ\\x84¢ Ringtones & Wallpapers': 3,\n",
      " 'ZOOM Cloud Meetings': 1,\n",
      " 'Zappos â\\x80\\x93 Shoe shopping made simple': 1,\n",
      " 'Zara': 1,\n",
      " 'Zello PTT Walkie Talkie': 1,\n",
      " 'Zenefits': 1,\n",
      " 'Zillow: Find Houses for Sale & Apartments for Rent': 1,\n",
      " 'Zomato - Restaurant Finder and Food Delivery App': 1,\n",
      " 'Zombie Catchers': 5,\n",
      " 'Zombie Hunter King': 3,\n",
      " 'Zombie Tsunami': 4,\n",
      " 'Zoosk Dating App: Meet Singles': 1,\n",
      " 'ai.type Free Emoji Keyboard': 1,\n",
      " 'busuu: Learn Languages - Spanish, English & More': 3,\n",
      " 'eBay: Buy & Sell this Summer - Discover Deals Now!': 4,\n",
      " 'edX - Online Courses by Harvard, MIT & more': 1,\n",
      " \"fred's Pharmacy\": 1,\n",
      " 'free video calls and chat': 2,\n",
      " 'iBP Blood Pressure': 1,\n",
      " 'iPair-Meet, Chat, Dating': 1,\n",
      " 'imo beta free calls and text': 1,\n",
      " 'imo free video calls and chat': 3,\n",
      " 'join.me - Simple Meetings': 2,\n",
      " 'letgo: Buy & Sell Used Stuff, Cars & Real Estate': 1,\n",
      " 'muzmatch: Muslim & Arab Singles, Marriage & Dating': 2,\n",
      " 'myAT&T': 1,\n",
      " 'mySugr: the blood sugar tracker made just for you': 2,\n",
      " 'ooVoo Video Calls, Messaging & Stories': 1,\n",
      " 'osmino Wi-Fi: free WiFi': 1,\n",
      " 'realestate.com.au - Buy, Rent & Sell Property': 1,\n",
      " 'slither.io': 5,\n",
      " 'stranger chat - anonymous chat': 1,\n",
      " 'textPlus: Free Text & Calls': 1,\n",
      " 'theScore: Live Sports Scores, News, Stats & Videos': 4,\n",
      " 'trivago: Hotels & Travel': 2,\n",
      " 'wetter.com - Weather and Radar': 1}\n"
     ]
    }
   ],
   "source": [
    "# count frequency of names occurring\n",
    "\n",
    "apps = {}\n",
    "for name in new_apps:\n",
    "    apps[name] = new_apps.count(name)\n",
    "    \n",
    "pprint.pprint(apps)\n",
    "   "
   ]
  },
  {
   "cell_type": "code",
   "execution_count": 145,
   "metadata": {},
   "outputs": [
    {
     "data": {
      "text/plain": [
       "8"
      ]
     },
     "execution_count": 145,
     "metadata": {},
     "output_type": "execute_result"
    }
   ],
   "source": [
    "#what is the highest number of duplicates ?\n",
    "max(apps.values())"
   ]
  },
  {
   "cell_type": "code",
   "execution_count": 146,
   "metadata": {},
   "outputs": [
    {
     "name": "stdout",
     "output_type": "stream",
     "text": [
      "k: ROBLOX\n"
     ]
    }
   ],
   "source": [
    "# which app do these duplicates belong to\n",
    "for k, v in apps.items():\n",
    "    if v == 8:\n",
    "        print(\"k:\", k)"
   ]
  },
  {
   "cell_type": "code",
   "execution_count": 147,
   "metadata": {},
   "outputs": [
    {
     "data": {
      "text/plain": [
       "8"
      ]
     },
     "execution_count": 147,
     "metadata": {},
     "output_type": "execute_result"
    }
   ],
   "source": [
    "apps['ROBLOX']"
   ]
  },
  {
   "cell_type": "code",
   "execution_count": 148,
   "metadata": {},
   "outputs": [
    {
     "name": "stdout",
     "output_type": "stream",
     "text": [
      "['ROBLOX', 'GAME', '4.5', '4447388', '67M', '100,000,000+', 'Free', '0', 'Everyone 10+', 'Adventure;Action & Adventure', 'July 31, 2018', '2.347.225742', '4.1 and up']\n",
      "['ROBLOX', 'GAME', '4.5', '4447346', '67M', '100,000,000+', 'Free', '0', 'Everyone 10+', 'Adventure;Action & Adventure', 'July 31, 2018', '2.347.225742', '4.1 and up']\n",
      "['ROBLOX', 'GAME', '4.5', '4448791', '67M', '100,000,000+', 'Free', '0', 'Everyone 10+', 'Adventure;Action & Adventure', 'July 31, 2018', '2.347.225742', '4.1 and up']\n",
      "['ROBLOX', 'GAME', '4.5', '4449882', '67M', '100,000,000+', 'Free', '0', 'Everyone 10+', 'Adventure;Action & Adventure', 'July 31, 2018', '2.347.225742', '4.1 and up']\n",
      "['ROBLOX', 'GAME', '4.5', '4449910', '67M', '100,000,000+', 'Free', '0', 'Everyone 10+', 'Adventure;Action & Adventure', 'July 31, 2018', '2.347.225742', '4.1 and up']\n",
      "['ROBLOX', 'FAMILY', '4.5', '4449910', '67M', '100,000,000+', 'Free', '0', 'Everyone 10+', 'Adventure;Action & Adventure', 'July 31, 2018', '2.347.225742', '4.1 and up']\n",
      "['ROBLOX', 'FAMILY', '4.5', '4450855', '67M', '100,000,000+', 'Free', '0', 'Everyone 10+', 'Adventure;Action & Adventure', 'July 31, 2018', '2.347.225742', '4.1 and up']\n",
      "['ROBLOX', 'FAMILY', '4.5', '4450890', '67M', '100,000,000+', 'Free', '0', 'Everyone 10+', 'Adventure;Action & Adventure', 'July 31, 2018', '2.347.225742', '4.1 and up']\n",
      "['ROBLOX', 'FAMILY', '4.5', '4443407', '67M', '100,000,000+', 'Free', '0', 'Everyone 10+', 'Adventure;Action & Adventure', 'July 31, 2018', '2.347.225742', '4.1 and up']\n"
     ]
    }
   ],
   "source": [
    "for row in google_data[1:]:\n",
    "    name = row[0]\n",
    "    if name == 'ROBLOX':\n",
    "        print(row)"
   ]
  },
  {
   "cell_type": "code",
   "execution_count": 149,
   "metadata": {
    "code_folding": []
   },
   "outputs": [
    {
     "name": "stdout",
     "output_type": "stream",
     "text": [
      "['Box', 'BUSINESS', '4.2', '159872', 'Varies with device', '10,000,000+', 'Free', '0', 'Everyone', 'Business', 'July 31, 2018', 'Varies with device', 'Varies with device']\n",
      "['Box', 'BUSINESS', '4.2', '159872', 'Varies with device', '10,000,000+', 'Free', '0', 'Everyone', 'Business', 'July 31, 2018', 'Varies with device', 'Varies with device']\n",
      "['Box', 'BUSINESS', '4.2', '159872', 'Varies with device', '10,000,000+', 'Free', '0', 'Everyone', 'Business', 'July 31, 2018', 'Varies with device', 'Varies with device']\n"
     ]
    }
   ],
   "source": [
    "for row in google_data[1:]:\n",
    "    name = row[0]\n",
    "    if name == 'Box':\n",
    "        print(row)"
   ]
  },
  {
   "cell_type": "markdown",
   "metadata": {},
   "source": [
    "We have to find a way to remove duplicate data and keep the most current. One of the ways to do this is to keep the duplicate entry with the highest number of reviews and discard the others"
   ]
  },
  {
   "cell_type": "code",
   "execution_count": 150,
   "metadata": {},
   "outputs": [],
   "source": [
    "# show length of dataset once duplicates are removed (exclude the header)\n",
    "\n",
    "non_dup_google = len(google_data[1:]) - number_of_duplicates"
   ]
  },
  {
   "cell_type": "markdown",
   "metadata": {
    "variables": {
     "non_dup_google": "9659"
    }
   },
   "source": [
    "Length of google dataset once duplicates have been removed: {{non_dup_google}}"
   ]
  },
  {
   "cell_type": "markdown",
   "metadata": {},
   "source": [
    "Create a dictionary where each key is a unique app name with the corresponding highest number of reviews of the app"
   ]
  },
  {
   "cell_type": "code",
   "execution_count": 151,
   "metadata": {},
   "outputs": [],
   "source": [
    "# this code will extract the maximum number of reviews per unique app name in the duplicates free dataset\n",
    "\n",
    "reviews_max = {}\n",
    "for row in google_data[1:]:\n",
    "    name = row[0]\n",
    "    n_reviews = float(row[3])\n",
    "    if name in reviews_max and reviews_max[name] < n_reviews:\n",
    "        reviews_max[name] = n_reviews\n",
    "    else:\n",
    "        name not in reviews_max\n",
    "        reviews_max[name] = n_reviews\n",
    "        \n",
    "        \n",
    "    \n",
    "        "
   ]
  },
  {
   "cell_type": "code",
   "execution_count": 152,
   "metadata": {},
   "outputs": [
    {
     "data": {
      "text/plain": [
       "True"
      ]
     },
     "execution_count": 152,
     "metadata": {},
     "output_type": "execute_result"
    }
   ],
   "source": [
    "# compare the lengths of the reviews_max dictionary and the duplicates free (unique) dataset. Are they the same ?\n",
    "\n",
    "len(reviews_max) == non_dup_google"
   ]
  },
  {
   "cell_type": "code",
   "execution_count": 153,
   "metadata": {},
   "outputs": [],
   "source": [
    "# the already added list will be a check to confirm that all the unique app names \n",
    "# in the dataset have been added and cleaned\n",
    "\n",
    "android_clean, already_added = [], []\n",
    "for row in google_data[1:]:\n",
    "    name = row[0]\n",
    "    n_reviews = float(row[3])\n",
    "    if reviews_max[name] == n_reviews and name not in already_added:\n",
    "        android_clean.append(row)\n",
    "        already_added.append(name) "
   ]
  },
  {
   "cell_type": "code",
   "execution_count": 154,
   "metadata": {},
   "outputs": [
    {
     "data": {
      "text/plain": [
       "9659"
      ]
     },
     "execution_count": 154,
     "metadata": {},
     "output_type": "execute_result"
    }
   ],
   "source": [
    "len(android_clean)"
   ]
  },
  {
   "cell_type": "code",
   "execution_count": 155,
   "metadata": {},
   "outputs": [
    {
     "data": {
      "text/plain": [
       "9659"
      ]
     },
     "execution_count": 155,
     "metadata": {},
     "output_type": "execute_result"
    }
   ],
   "source": [
    "len(already_added)"
   ]
  },
  {
   "cell_type": "markdown",
   "metadata": {},
   "source": [
    "At the company, English is used to develop the apps because we cater to an English speaking audience. We therefore have to make sure our dataset contains only English apps.\n",
    "\n",
    "We can check each character in an app name to see if it is an English character. Using ord(), a built-in Python function, we will check each character to see whether it's ASCII (American Standard Code for Information Interchange system) number is 127 or less. This shows us that the character is English. If the ASCII numbr returned is greater than 127, then that character is non-English.\n",
    "\n",
    "We will devise a function that will check each string and if any character within that string is a non-English character, then return a boolean value of False that the string is non-English"
   ]
  },
  {
   "cell_type": "code",
   "execution_count": 156,
   "metadata": {},
   "outputs": [
    {
     "data": {
      "text/plain": [
       "6"
      ]
     },
     "execution_count": 156,
     "metadata": {},
     "output_type": "execute_result"
    }
   ],
   "source": [
    "len(android_clean[7940][0])"
   ]
  },
  {
   "cell_type": "code",
   "execution_count": 157,
   "metadata": {},
   "outputs": [
    {
     "name": "stdout",
     "output_type": "stream",
     "text": [
      "True\n",
      "True\n",
      "True\n",
      "True\n",
      "True\n",
      "True\n",
      "True\n",
      "True\n",
      "True\n",
      "True\n",
      "False\n",
      "True\n",
      "True\n",
      "True\n",
      "True\n",
      "True\n",
      "True\n",
      "True\n",
      "True\n",
      "True\n",
      "True\n",
      "True\n",
      "True\n",
      "True\n",
      "True\n",
      "True\n",
      "True\n",
      "True\n",
      "True\n"
     ]
    }
   ],
   "source": [
    "for char in 'Docs To Go™ Free Office Suite':\n",
    "    if ord(char) < 127:\n",
    "        print(True)\n",
    "    else:\n",
    "        print(False)"
   ]
  },
  {
   "cell_type": "code",
   "execution_count": 158,
   "metadata": {},
   "outputs": [
    {
     "name": "stdout",
     "output_type": "stream",
     "text": [
      "False\n"
     ]
    }
   ],
   "source": [
    "text = 'Instachat 😜'\n",
    "\n",
    "for char in text:\n",
    "    if ord(char) > 127:\n",
    "        print(False)\n",
    "    "
   ]
  },
  {
   "cell_type": "code",
   "execution_count": 159,
   "metadata": {},
   "outputs": [],
   "source": [
    "\n",
    "# change the original function such that if the count of non-English characters, in a string, is 3 or over, then\n",
    "# return the string as False otherwise return True. This will cater for characters such as emoticons and trademarks\n",
    "# which are not non-English\n",
    "\n",
    "def is_english(text):\n",
    "    count = 0\n",
    "    for char in text:\n",
    "        if ord(char) > 127:\n",
    "            count += 1\n",
    "    if count >= 3:\n",
    "        return False\n",
    "    \n",
    "    return True"
   ]
  },
  {
   "cell_type": "code",
   "execution_count": 160,
   "metadata": {},
   "outputs": [
    {
     "data": {
      "text/plain": [
       "True"
      ]
     },
     "execution_count": 160,
     "metadata": {},
     "output_type": "execute_result"
    }
   ],
   "source": [
    "is_english('angela')"
   ]
  },
  {
   "cell_type": "code",
   "execution_count": 161,
   "metadata": {},
   "outputs": [
    {
     "data": {
      "text/plain": [
       "True"
      ]
     },
     "execution_count": 161,
     "metadata": {},
     "output_type": "execute_result"
    }
   ],
   "source": [
    "is_english(android_clean[7940][0])"
   ]
  },
  {
   "cell_type": "code",
   "execution_count": 162,
   "metadata": {},
   "outputs": [
    {
     "name": "stdout",
     "output_type": "stream",
     "text": [
      "False\n"
     ]
    }
   ],
   "source": [
    "print(is_english(\n",
    "'爱奇艺PPS -《欢乐颂2》电视剧热播'))"
   ]
  },
  {
   "cell_type": "code",
   "execution_count": 163,
   "metadata": {},
   "outputs": [
    {
     "name": "stdout",
     "output_type": "stream",
     "text": [
      "True\n",
      "True\n",
      "True\n"
     ]
    }
   ],
   "source": [
    "print(is_english('Instagram'))\n",
    "print(is_english('Docs To Go™ Free Office Suite'))\n",
    "print(is_english('Instachat 😜'))"
   ]
  },
  {
   "cell_type": "code",
   "execution_count": 164,
   "metadata": {},
   "outputs": [],
   "source": [
    "# extract the number of English apps in both the android and apple datasets\n",
    "\n",
    "english_apple_app, english_android_app = [], []\n",
    "\n",
    "for row in apple_data[1:]:\n",
    "    name = row[1]\n",
    "    if is_english(name):\n",
    "        english_apple_app.append(row)"
   ]
  },
  {
   "cell_type": "code",
   "execution_count": 165,
   "metadata": {},
   "outputs": [],
   "source": [
    "for row in android_clean:\n",
    "    name = row[0]\n",
    "    if is_english(name):\n",
    "        english_android_app.append(row)"
   ]
  },
  {
   "cell_type": "code",
   "execution_count": 166,
   "metadata": {},
   "outputs": [
    {
     "name": "stdout",
     "output_type": "stream",
     "text": [
      "['284882215', 'Facebook', '389879808', 'USD', '0.0', '2974676', '212', '3.5', '3.5', '95.0', '4+', 'Social Networking', '37', '1', '29', '1']\n",
      "\n",
      "\n",
      "['389801252', 'Instagram', '113954816', 'USD', '0.0', '2161558', '1289', '4.5', '4.0', '10.23', '12+', 'Photo & Video', '37', '0', '29', '1']\n",
      "\n",
      "\n",
      "['529479190', 'Clash of Clans', '116476928', 'USD', '0.0', '2130805', '579', '4.5', '4.5', '9.24.12', '9+', 'Games', '38', '5', '18', '1']\n",
      "\n",
      "\n",
      "['420009108', 'Temple Run', '65921024', 'USD', '0.0', '1724546', '3842', '4.5', '4.0', '1.6.2', '9+', 'Games', '40', '5', '1', '1']\n",
      "\n",
      "\n",
      "['284035177', 'Pandora - Music & Radio', '130242560', 'USD', '0.0', '1126879', '3594', '4.0', '4.5', '8.4.1', '12+', 'Music', '37', '4', '1', '1']\n",
      "\n",
      "\n",
      "Number of rows: 5794\n",
      "Number of columns: 16\n"
     ]
    }
   ],
   "source": [
    "explore_data(english_apple_app, 0, 5, True)"
   ]
  },
  {
   "cell_type": "code",
   "execution_count": 167,
   "metadata": {},
   "outputs": [
    {
     "name": "stdout",
     "output_type": "stream",
     "text": [
      "['Photo Editor & Candy Camera & Grid & ScrapBook', 'ART_AND_DESIGN', '4.1', '159', '19M', '10,000+', 'Free', '0', 'Everyone', 'Art & Design', 'January 7, 2018', '1.0.0', '4.0.3 and up']\n",
      "\n",
      "\n",
      "['Sketch - Draw & Paint', 'ART_AND_DESIGN', '4.5', '215644', '25M', '50,000,000+', 'Free', '0', 'Teen', 'Art & Design', 'June 8, 2018', 'Varies with device', '4.2 and up']\n",
      "\n",
      "\n",
      "['Pixel Draw - Number Art Coloring Book', 'ART_AND_DESIGN', '4.3', '967', '2.8M', '100,000+', 'Free', '0', 'Everyone', 'Art & Design;Creativity', 'June 20, 2018', '1.1', '4.4 and up']\n",
      "\n",
      "\n",
      "['Paper flowers instructions', 'ART_AND_DESIGN', '4.4', '167', '5.6M', '50,000+', 'Free', '0', 'Everyone', 'Art & Design', 'March 26, 2017', '1.0', '2.3 and up']\n",
      "\n",
      "\n",
      "['Smoke Effect Photo Maker - Smoke Editor', 'ART_AND_DESIGN', '3.8', '178', '19M', '50,000+', 'Free', '0', 'Everyone', 'Art & Design', 'April 26, 2018', '1.1', '4.0.3 and up']\n",
      "\n",
      "\n",
      "Number of rows: 9268\n",
      "Number of columns: 13\n"
     ]
    }
   ],
   "source": [
    "explore_data(english_android_app, 0, 5, True)"
   ]
  },
  {
   "cell_type": "code",
   "execution_count": 168,
   "metadata": {},
   "outputs": [
    {
     "name": "stdout",
     "output_type": "stream",
     "text": [
      "['App', 'Category', 'Rating', 'Reviews', 'Size', 'Installs', 'Type', 'Price', 'Content Rating', 'Genres', 'Last Updated', 'Current Ver', 'Android Ver']\n",
      "['id', 'track_name', 'size_bytes', 'currency', 'price', 'rating_count_tot', 'rating_count_ver', 'user_rating', 'user_rating_ver', 'ver', 'cont_rating', 'prime_genre', 'sup_devices.num', 'ipadSc_urls.num', 'lang.num', 'vpp_lic']\n"
     ]
    },
    {
     "data": {
      "text/plain": [
       "(None, None)"
      ]
     },
     "execution_count": 168,
     "metadata": {},
     "output_type": "execute_result"
    }
   ],
   "source": [
    "print(header_google), print(header_apple)"
   ]
  },
  {
   "cell_type": "code",
   "execution_count": 169,
   "metadata": {},
   "outputs": [],
   "source": [
    "free_apps_google, free_apps_apple = [], []\n",
    "\n",
    "for row in english_apple_app:\n",
    "    if row[4] == '0.0':\n",
    "        free_apps_apple.append(row)\n",
    "        \n",
    "for row in english_android_app:\n",
    "    if row[6] == 'Free':\n",
    "        free_apps_google.append(row)"
   ]
  },
  {
   "cell_type": "code",
   "execution_count": 170,
   "metadata": {},
   "outputs": [
    {
     "name": "stdout",
     "output_type": "stream",
     "text": [
      "['284882215', 'Facebook', '389879808', 'USD', '0.0', '2974676', '212', '3.5', '3.5', '95.0', '4+', 'Social Networking', '37', '1', '29', '1']\n",
      "\n",
      "\n",
      "['389801252', 'Instagram', '113954816', 'USD', '0.0', '2161558', '1289', '4.5', '4.0', '10.23', '12+', 'Photo & Video', '37', '0', '29', '1']\n",
      "\n",
      "\n",
      "['529479190', 'Clash of Clans', '116476928', 'USD', '0.0', '2130805', '579', '4.5', '4.5', '9.24.12', '9+', 'Games', '38', '5', '18', '1']\n",
      "\n",
      "\n",
      "['420009108', 'Temple Run', '65921024', 'USD', '0.0', '1724546', '3842', '4.5', '4.0', '1.6.2', '9+', 'Games', '40', '5', '1', '1']\n",
      "\n",
      "\n",
      "['284035177', 'Pandora - Music & Radio', '130242560', 'USD', '0.0', '1126879', '3594', '4.0', '4.5', '8.4.1', '12+', 'Music', '37', '4', '1', '1']\n",
      "\n",
      "\n",
      "Number of rows: 2970\n",
      "Number of columns: 16\n"
     ]
    }
   ],
   "source": [
    "# explore the google and apple datasets that should now contain english free apps\n",
    "\n",
    "explore_data(free_apps_apple, 0, 5, True)"
   ]
  },
  {
   "cell_type": "code",
   "execution_count": 171,
   "metadata": {},
   "outputs": [
    {
     "name": "stdout",
     "output_type": "stream",
     "text": [
      "['Photo Editor & Candy Camera & Grid & ScrapBook', 'ART_AND_DESIGN', '4.1', '159', '19M', '10,000+', 'Free', '0', 'Everyone', 'Art & Design', 'January 7, 2018', '1.0.0', '4.0.3 and up']\n",
      "\n",
      "\n",
      "['Sketch - Draw & Paint', 'ART_AND_DESIGN', '4.5', '215644', '25M', '50,000,000+', 'Free', '0', 'Teen', 'Art & Design', 'June 8, 2018', 'Varies with device', '4.2 and up']\n",
      "\n",
      "\n",
      "['Pixel Draw - Number Art Coloring Book', 'ART_AND_DESIGN', '4.3', '967', '2.8M', '100,000+', 'Free', '0', 'Everyone', 'Art & Design;Creativity', 'June 20, 2018', '1.1', '4.4 and up']\n",
      "\n",
      "\n",
      "['Paper flowers instructions', 'ART_AND_DESIGN', '4.4', '167', '5.6M', '50,000+', 'Free', '0', 'Everyone', 'Art & Design', 'March 26, 2017', '1.0', '2.3 and up']\n",
      "\n",
      "\n",
      "['Smoke Effect Photo Maker - Smoke Editor', 'ART_AND_DESIGN', '3.8', '178', '19M', '50,000+', 'Free', '0', 'Everyone', 'Art & Design', 'April 26, 2018', '1.1', '4.0.3 and up']\n",
      "\n",
      "\n",
      "Number of rows: 8542\n",
      "Number of columns: 13\n"
     ]
    }
   ],
   "source": [
    "explore_data(free_apps_google, 0, 5, True)"
   ]
  },
  {
   "cell_type": "markdown",
   "metadata": {
    "variables": {
     "len(free_apps_apple)": "2970",
     "len(free_apps_google)": "8542"
    }
   },
   "source": [
    "So now there {{len(free_apps_google)}} free apps in the google dataset and {{len(free_apps_apple)}} in the apple dataset respectively"
   ]
  },
  {
   "cell_type": "markdown",
   "metadata": {},
   "source": [
    "# What sort of apps could be profitable ?\n",
    "\n",
    "The goal of this project is to determine the type of apps that would attract more users as our revenue is determined by the numbers of people using our apps.\n",
    "\n",
    "So far the following has been done to the two datasets:\n",
    "\n",
    "* Removed inaccurate data\n",
    "* Removed duplicate app entries\n",
    "* Removed non-English apps\n",
    "* Isolated the free apps\n",
    "\n",
    "The validation strategy to understand better our customers, and the types of app that would appeal to them, is:\n",
    "\n",
    "* Build a minimal Android version of the app, and add it to the Google Play store\n",
    "* If there is a good response to the app, then develop it further\n",
    "* If the app is profitable after 6 months, then an iOS version will be built and added to the Apple store\n",
    "\n",
    "Look through the dataset columns, of both datasets, to see which columns indicate the most common genres in each app market"
   ]
  },
  {
   "cell_type": "markdown",
   "metadata": {
    "variables": {
     "header_apple": "[&#39;id&#39;,\n &#39;track_name&#39;,\n &#39;size_bytes&#39;,\n &#39;currency&#39;,\n &#39;price&#39;,\n &#39;rating_count_tot&#39;,\n &#39;rating_count_ver&#39;,\n &#39;user_rating&#39;,\n &#39;user_rating_ver&#39;,\n &#39;ver&#39;,\n &#39;cont_rating&#39;,\n &#39;prime_genre&#39;,\n &#39;sup_devices.num&#39;,\n &#39;ipadSc_urls.num&#39;,\n &#39;lang.num&#39;,\n &#39;vpp_lic&#39;]"
    }
   },
   "source": [
    "As you can see after inspecting a few rows of the apple dataset, and it's header, the prime_genre column would be a good frequency indicator: \n",
    "**{{header_apple}}**"
   ]
  },
  {
   "cell_type": "markdown",
   "metadata": {
    "variables": {
     "header_google": "[&#39;App&#39;,\n &#39;Category&#39;,\n &#39;Rating&#39;,\n &#39;Reviews&#39;,\n &#39;Size&#39;,\n &#39;Installs&#39;,\n &#39;Type&#39;,\n &#39;Price&#39;,\n &#39;Content Rating&#39;,\n &#39;Genres&#39;,\n &#39;Last Updated&#39;,\n &#39;Current Ver&#39;,\n &#39;Android Ver&#39;]"
    }
   },
   "source": [
    "And from the google dataset, the following columns could be used to indicate frequency, Genres and Category:     **{{header_google}}**\n",
    "\n",
    "We will generate frequency tables starting with a function, that has dataset and column index as arguments, and returns counts in percentages"
   ]
  },
  {
   "cell_type": "code",
   "execution_count": 172,
   "metadata": {},
   "outputs": [
    {
     "name": "stdout",
     "output_type": "stream",
     "text": [
      "Games : 59.22558922559027\n",
      "Entertainment : 7.542087542087555\n",
      "Photo & Video : 5.084175084175092\n",
      "Education : 3.80471380471381\n",
      "Social Networking : 3.0976430976431013\n",
      "Shopping : 2.491582491582494\n",
      "Utilities : 2.255892255892258\n",
      "Sports : 2.1548821548821566\n",
      "Music : 2.121212121212123\n",
      "Health & Fitness : 1.9528619528619544\n",
      "Productivity : 1.6835016835016845\n",
      "Lifestyle : 1.4478114478114483\n",
      "News : 1.346801346801347\n",
      "Travel : 1.111111111111111\n",
      "Finance : 1.111111111111111\n",
      "Weather : 0.8754208754208751\n",
      "Food & Drink : 0.8754208754208751\n",
      "Reference : 0.5387205387205388\n",
      "Business : 0.5387205387205388\n",
      "Book : 0.2693602693602694\n",
      "Medical : 0.20202020202020204\n",
      "Navigation : 0.16835016835016836\n",
      "Catalogs : 0.10101010101010101\n",
      "None\n",
      "\n",
      "FAMILY : 19.129009599625167\n",
      "GAME : 9.353781315851197\n",
      "TOOLS : 8.522594240224867\n",
      "BUSINESS : 4.659330367595447\n",
      "PRODUCTIVITY : 3.945211894170009\n",
      "LIFESTYLE : 3.945211894170009\n",
      "FINANCE : 3.79302271130885\n",
      "MEDICAL : 3.629126668227602\n",
      "SPORTS : 3.418403184265997\n",
      "PERSONALIZATION : 3.254507141184749\n",
      "COMMUNICATION : 3.24280028096466\n",
      "HEALTH_AND_FITNESS : 3.10231795832359\n",
      "PHOTOGRAPHY : 2.9735424959026093\n",
      "NEWS_AND_MAGAZINES : 2.8447670334816286\n",
      "SOCIAL : 2.6691641301802913\n",
      "TRAVEL_AND_LOCAL : 2.3062514633575275\n",
      "SHOPPING : 2.2243034418169034\n",
      "BOOKS_AND_REFERENCE : 2.177476000936547\n",
      "DATING : 1.8028564738936976\n",
      "VIDEO_PLAYERS : 1.744322172793253\n",
      "MAPS_AND_NAVIGATION : 1.381409505970496\n",
      "FOOD_AND_DRINK : 1.2643409037696067\n",
      "EDUCATION : 1.1472723015687174\n",
      "AUTO_AND_VEHICLES : 0.9248419573870276\n",
      "LIBRARIES_AND_DEMO : 0.9131350971669386\n",
      "ENTERTAINMENT : 0.842893935846405\n",
      "HOUSE_AND_HOME : 0.8077733551861382\n",
      "WEATHER : 0.7843596347459604\n",
      "EVENTS : 0.7024116132053378\n",
      "ART_AND_DESIGN : 0.6555841723249821\n",
      "PARENTING : 0.6438773121048932\n",
      "BEAUTY : 0.6204635916647153\n",
      "COMICS : 0.5736361507843596\n",
      "None\n",
      "\n",
      "Tools : 8.510887380004778\n",
      "Entertainment : 6.087567314446324\n",
      "Education : 5.4436900023414205\n",
      "Business : 4.659330367595447\n",
      "Productivity : 3.945211894170009\n",
      "Lifestyle : 3.93350503394992\n",
      "Finance : 3.79302271130885\n",
      "Medical : 3.629126668227602\n",
      "Sports : 3.465230625146354\n",
      "Personalization : 3.254507141184749\n",
      "Communication : 3.24280028096466\n",
      "Health & Fitness : 3.10231795832359\n",
      "Action : 3.090611098103501\n",
      "Photography : 2.9735424959026093\n",
      "News & Magazines : 2.8447670334816286\n",
      "Social : 2.6691641301802913\n",
      "Travel & Local : 2.2945446031374384\n",
      "Shopping : 2.2243034418169034\n",
      "Books & Reference : 2.177476000936547\n",
      "Simulation : 2.048700538515566\n",
      "Arcade : 1.8496839147740534\n",
      "Dating : 1.8028564738936976\n",
      "Video Players & Editors : 1.744322172793253\n",
      "Casual : 1.732615312573164\n",
      "Maps & Navigation : 1.381409505970496\n",
      "Food & Drink : 1.2643409037696067\n",
      "Puzzle : 1.1472723015687174\n",
      "Racing : 1.0067899789276502\n",
      "Role Playing : 0.9248419573870276\n",
      "Auto & Vehicles : 0.9248419573870276\n",
      "Libraries & Demo : 0.9131350971669386\n",
      "Strategy : 0.8780145165066718\n",
      "House & Home : 0.8077733551861382\n",
      "Weather : 0.7843596347459604\n",
      "Events : 0.7024116132053378\n",
      "Adventure : 0.6555841723249821\n",
      "Beauty : 0.6204635916647153\n",
      "Art & Design : 0.6087567314446264\n",
      "Comics : 0.5619292905642707\n",
      "Parenting : 0.49168812924373706\n",
      "Trivia : 0.40974010770311414\n",
      "Educational;Education : 0.40974010770311414\n",
      "Educational : 0.38632638726293617\n",
      "Card : 0.38632638726293617\n",
      "Casino : 0.3746195270428472\n",
      "Board : 0.3746195270428472\n",
      "Education;Education : 0.3512058066026692\n",
      "Word : 0.2458440646218683\n",
      "Music : 0.19901662374151247\n",
      "Casual;Pretend Play : 0.1873097635214235\n",
      "Puzzle;Brain Games : 0.17560290330133455\n",
      "Entertainment;Music & Video : 0.16389604308124558\n",
      "Racing;Action & Adventure : 0.15218918286115662\n",
      "Casual;Brain Games : 0.14048232264106766\n",
      "Casual;Action & Adventure : 0.1287754624209787\n",
      "Arcade;Action & Adventure : 0.10536174198080075\n",
      "Educational;Pretend Play : 0.09365488176071178\n",
      "Simulation;Action & Adventure : 0.0819480215406228\n",
      "Parenting;Education : 0.0819480215406228\n",
      "Action;Action & Adventure : 0.0819480215406228\n",
      "Entertainment;Brain Games : 0.07024116132053383\n",
      "Art & Design;Creativity : 0.07024116132053383\n",
      "Parenting;Music & Video : 0.058534301100444865\n",
      "Education;Pretend Play : 0.058534301100444865\n",
      "Board;Brain Games : 0.058534301100444865\n",
      "Role Playing;Pretend Play : 0.04682744088035589\n",
      "Educational;Brain Games : 0.04682744088035589\n",
      "Education;Creativity : 0.04682744088035589\n",
      "Casual;Creativity : 0.04682744088035589\n",
      "Role Playing;Action & Adventure : 0.035120580660266916\n",
      "Puzzle;Action & Adventure : 0.035120580660266916\n",
      "Educational;Creativity : 0.035120580660266916\n",
      "Educational;Action & Adventure : 0.035120580660266916\n",
      "Education;Music & Video : 0.035120580660266916\n",
      "Education;Action & Adventure : 0.035120580660266916\n",
      "Adventure;Action & Adventure : 0.035120580660266916\n",
      "Video Players & Editors;Music & Video : 0.023413720440177945\n",
      "Sports;Action & Adventure : 0.023413720440177945\n",
      "Simulation;Pretend Play : 0.023413720440177945\n",
      "Puzzle;Creativity : 0.023413720440177945\n",
      "Music;Music & Video : 0.023413720440177945\n",
      "Entertainment;Pretend Play : 0.023413720440177945\n",
      "Entertainment;Creativity : 0.023413720440177945\n",
      "Entertainment;Action & Adventure : 0.023413720440177945\n",
      "Education;Brain Games : 0.023413720440177945\n",
      "Casual;Education : 0.023413720440177945\n",
      "Board;Action & Adventure : 0.023413720440177945\n",
      "Trivia;Education : 0.011706860220088973\n",
      "Travel & Local;Action & Adventure : 0.011706860220088973\n",
      "Tools;Education : 0.011706860220088973\n",
      "Strategy;Education : 0.011706860220088973\n",
      "Strategy;Creativity : 0.011706860220088973\n",
      "Simulation;Education : 0.011706860220088973\n",
      "Role Playing;Brain Games : 0.011706860220088973\n",
      "Racing;Pretend Play : 0.011706860220088973\n",
      "Puzzle;Education : 0.011706860220088973\n",
      "Parenting;Brain Games : 0.011706860220088973\n",
      "Music & Audio;Music & Video : 0.011706860220088973\n",
      "Lifestyle;Pretend Play : 0.011706860220088973\n",
      "Health & Fitness;Education : 0.011706860220088973\n",
      "Health & Fitness;Action & Adventure : 0.011706860220088973\n",
      "Entertainment;Education : 0.011706860220088973\n",
      "Comics;Creativity : 0.011706860220088973\n",
      "Card;Brain Games : 0.011706860220088973\n",
      "Card;Action & Adventure : 0.011706860220088973\n",
      "Books & Reference;Education : 0.011706860220088973\n",
      "Art & Design;Pretend Play : 0.011706860220088973\n",
      "Art & Design;Action & Adventure : 0.011706860220088973\n",
      "Arcade;Pretend Play : 0.011706860220088973\n",
      "Adventure;Education : 0.011706860220088973\n",
      "None\n"
     ]
    }
   ],
   "source": [
    "def freq_table(dataset, index):\n",
    "    freq_table = {}\n",
    "    name_of_col = []\n",
    "    length_of_dataset = len(dataset)\n",
    "    for row in dataset:\n",
    "        col = row[index]\n",
    "        name_of_col.append(col)\n",
    "    \n",
    "    for col in name_of_col:\n",
    "        if col in freq_table:\n",
    "            freq_table[col] += 1/length_of_dataset * 100\n",
    "        else:\n",
    "            freq_table[col] = 1/length_of_dataset * 100\n",
    "    return freq_table\n",
    "\n",
    "\n",
    "def display_table(dataset, index):\n",
    "    table = freq_table(dataset, index)\n",
    "    table_display = []\n",
    "    for key in table:\n",
    "        key_val_as_tuple = (table[key], key)\n",
    "        table_display.append(key_val_as_tuple)\n",
    "    table_sorted = sorted(table_display, reverse = True)   \n",
    "    \n",
    "    for entry in table_sorted:\n",
    "        print(entry[1], ':', entry[0])\n",
    "\n",
    "#prime_genre       \n",
    "pprint.pprint(display_table(free_apps_apple, -5))  \n",
    "print('')\n",
    "\n",
    "#Category\n",
    "pprint.pprint(display_table(free_apps_google, 1))\n",
    "print('')\n",
    "\n",
    "#Genres\n",
    "pprint.pprint(display_table(free_apps_google, -4)) \n",
    "\n",
    " "
   ]
  },
  {
   "cell_type": "markdown",
   "metadata": {},
   "source": [
    "In answer to the following question for the prime_genre column of the App Store dataset:\n",
    "\n",
    "* What is the most common genre ? \n",
    "* What is the runner-up ? \n",
    "\n",
    "The most popular genre by far is the Games category (59%) while the second most popular is Entertainment (7%). Photo and video apps account for 5% with social networking apps making up 3%.\n",
    "\n",
    "There are [6](https://duckma.com/en/blog/types-of-mobile-apps) main type of mobile apps: lifestyle mobile apps, social media apps, utility mobile apps, games/entertainment apps, productivity apps and news information apps.\n",
    "\n",
    "As can be seen from the App store dataset, more than 75% of the apps are dedicated to leisure (games, entertainment, social networking, photo and video, sports, music, health and fitness) with the rest left for practical pursuits such as education, shopping, productivity, business, news, travel and lifestyle.\n",
    "\n",
    "Examination of the genre and category columns of the Google Play dataset shows the complete opposite. Just 15% of apps in this dataset are dedicated to recreation (games/entertainment, health and fitness, social) with the rest of the apps (85%) being for more utilitarian pursuits (family, productivity, business, education, travel, news, finance, personalization) with the largest category being that of family (19%).\n",
    "\n",
    "I would argue, judging from the research, that an app profile for the Google Play store should be utilitarian. Further investigation to determine which of the genres/categories had the most users would confirm this. Also since the Android operating system is the most popular smartphone operating system on the planet, with a user base of [2.5 billion](https://www.theverge.com/2019/5/7/18528297/google-io-2019-android-devices-play-store-total-number-statistic-keynote), it would make sense to build for this market first. \n",
    "\n",
    "\n",
    "\n",
    "\n",
    "\n"
   ]
  },
  {
   "cell_type": "code",
   "execution_count": null,
   "metadata": {},
   "outputs": [],
   "source": []
  }
 ],
 "metadata": {
  "kernelspec": {
   "display_name": "Python 3",
   "language": "python",
   "name": "python3"
  },
  "language_info": {
   "codemirror_mode": {
    "name": "ipython",
    "version": 3
   },
   "file_extension": ".py",
   "mimetype": "text/x-python",
   "name": "python",
   "nbconvert_exporter": "python",
   "pygments_lexer": "ipython3",
   "version": "3.6.9"
  }
 },
 "nbformat": 4,
 "nbformat_minor": 4
}
